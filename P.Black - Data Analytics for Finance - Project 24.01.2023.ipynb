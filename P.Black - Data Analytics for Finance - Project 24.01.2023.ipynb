{
 "cells": [
  {
   "cell_type": "markdown",
   "id": "6aaa45d7",
   "metadata": {},
   "source": [
    "# Health Expenditure & Covid-19 Analysis in EU Countries"
   ]
  },
  {
   "cell_type": "markdown",
   "id": "a91330e6",
   "metadata": {},
   "source": [
    "# 1) DATA IMPORTING"
   ]
  },
  {
   "cell_type": "markdown",
   "id": "f1cfde56",
   "metadata": {},
   "source": [
    "1-a) Import Libraries"
   ]
  },
  {
   "cell_type": "code",
   "execution_count": 415,
   "id": "e1a3bda6",
   "metadata": {},
   "outputs": [],
   "source": [
    "import numpy as np\n",
    "import pandas as pd\n",
    "import requests\n",
    "import matplotlib.pyplot as plt\n",
    "import seaborn as sns"
   ]
  },
  {
   "cell_type": "markdown",
   "id": "f1a2c597",
   "metadata": {},
   "source": [
    "1-b) Import data from flat files"
   ]
  },
  {
   "cell_type": "code",
   "execution_count": 416,
   "id": "3d6edf8c",
   "metadata": {},
   "outputs": [],
   "source": [
    "HealthExp_df = pd.read_csv(r\"C:\\Users\\44777\\Documents\\02.Patrick\\04.Tusla\\Analytics Course\\04.Project\\OECD_HealthExp.csv\")"
   ]
  },
  {
   "cell_type": "code",
   "execution_count": 417,
   "id": "15d57ddd",
   "metadata": {},
   "outputs": [],
   "source": [
    "EUPop_df = pd.read_excel(r\"C:\\Users\\44777\\Documents\\02.Patrick\\04.Tusla\\Analytics Course\\04.Project\\EU_Pop.xlsx\")"
   ]
  },
  {
   "cell_type": "code",
   "execution_count": 418,
   "id": "a0678197",
   "metadata": {},
   "outputs": [],
   "source": [
    "EU27_df = pd.read_excel(r\"C:\\Users\\44777\\Documents\\02.Patrick\\04.Tusla\\Analytics Course\\04.Project\\EU27.xlsx\")"
   ]
  },
  {
   "cell_type": "markdown",
   "id": "d7729f2a",
   "metadata": {},
   "source": [
    "1-c) Import data from API's"
   ]
  },
  {
   "cell_type": "markdown",
   "id": "83b2d0dc",
   "metadata": {},
   "source": [
    "Covid19_Data = requests.get('https://api.covid19api.com/summary')\n",
    "Covid19_File = Covid19_Data.json()\n",
    "Covid19_df = pd.DataFrame(Covid19_File[\"Countries\"])"
   ]
  },
  {
   "cell_type": "code",
   "execution_count": 419,
   "id": "e24976a9",
   "metadata": {},
   "outputs": [],
   "source": [
    "CurrExch = requests.get(\"https://cdn.jsdelivr.net/gh/fawazahmed0/currency-api@1/latest/currencies/eur.json\")\n",
    "CurrExch_File = CurrExch.json()\n",
    "CurrExch_df = pd.DataFrame(CurrExch_File)"
   ]
  },
  {
   "cell_type": "markdown",
   "id": "0695eb5d",
   "metadata": {},
   "source": [
    "# 2) IMPORTING AND DATA FILE STORING & MANIPULATING"
   ]
  },
  {
   "cell_type": "markdown",
   "id": "0dd10f84",
   "metadata": {},
   "source": [
    "2-a) Health Expenditure Data"
   ]
  },
  {
   "cell_type": "code",
   "execution_count": 420,
   "id": "7dbd7e34",
   "metadata": {},
   "outputs": [
    {
     "name": "stdout",
     "output_type": "stream",
     "text": [
      "<class 'pandas.core.frame.DataFrame'>\n",
      "RangeIndex: 17777 entries, 0 to 17776\n",
      "Data columns (total 8 columns):\n",
      " #   Column      Non-Null Count  Dtype  \n",
      "---  ------      --------------  -----  \n",
      " 0   LOCATION    17777 non-null  object \n",
      " 1   INDICATOR   17777 non-null  object \n",
      " 2   SUBJECT     17777 non-null  object \n",
      " 3   MEASURE     17777 non-null  object \n",
      " 4   FREQUENCY   17777 non-null  object \n",
      " 5   TIME        17777 non-null  int64  \n",
      " 6   Value       17777 non-null  float64\n",
      " 7   Flag Codes  2223 non-null   object \n",
      "dtypes: float64(1), int64(1), object(6)\n",
      "memory usage: 1.1+ MB\n",
      "None\n"
     ]
    }
   ],
   "source": [
    "print(HealthExp_df.info())"
   ]
  },
  {
   "cell_type": "code",
   "execution_count": 421,
   "id": "2b4a2afa",
   "metadata": {},
   "outputs": [
    {
     "name": "stdout",
     "output_type": "stream",
     "text": [
      "  LOCATION  INDICATOR SUBJECT MEASURE FREQUENCY  TIME  Value Flag Codes\n",
      "0      AUS  HEALTHEXP     TOT  PC_GDP         A  1971  4.540        NaN\n",
      "1      AUS  HEALTHEXP     TOT  PC_GDP         A  1972  4.539        NaN\n",
      "2      AUS  HEALTHEXP     TOT  PC_GDP         A  1973  4.504        NaN\n",
      "3      AUS  HEALTHEXP     TOT  PC_GDP         A  1974  5.104        NaN\n",
      "4      AUS  HEALTHEXP     TOT  PC_GDP         A  1975  5.750        NaN\n"
     ]
    }
   ],
   "source": [
    "print(HealthExp_df.head())"
   ]
  },
  {
   "cell_type": "code",
   "execution_count": 422,
   "id": "60a8a500",
   "metadata": {},
   "outputs": [
    {
     "name": "stdout",
     "output_type": "stream",
     "text": [
      "(17777, 8)\n"
     ]
    }
   ],
   "source": [
    "print(HealthExp_df.shape)"
   ]
  },
  {
   "cell_type": "code",
   "execution_count": 423,
   "id": "fd1272d7",
   "metadata": {},
   "outputs": [],
   "source": [
    "HealthExp_df2 = HealthExp_df.drop_duplicates(subset=\"LOCATION\")"
   ]
  },
  {
   "cell_type": "code",
   "execution_count": 424,
   "id": "dbaa9848",
   "metadata": {},
   "outputs": [
    {
     "data": {
      "text/plain": [
       "53"
      ]
     },
     "execution_count": 424,
     "metadata": {},
     "output_type": "execute_result"
    }
   ],
   "source": [
    "HealthExp_df2[\"LOCATION\"].count()"
   ]
  },
  {
   "cell_type": "code",
   "execution_count": 425,
   "id": "0f0382bb",
   "metadata": {},
   "outputs": [],
   "source": [
    "HealthExp_df3 = HealthExp_df.drop_duplicates(subset=\"MEASURE\")"
   ]
  },
  {
   "cell_type": "code",
   "execution_count": 426,
   "id": "3d6a9a5b",
   "metadata": {},
   "outputs": [
    {
     "data": {
      "text/plain": [
       "3"
      ]
     },
     "execution_count": 426,
     "metadata": {},
     "output_type": "execute_result"
    }
   ],
   "source": [
    "HealthExp_df3[\"MEASURE\"].count()"
   ]
  },
  {
   "cell_type": "code",
   "execution_count": 427,
   "id": "232bf8f3",
   "metadata": {},
   "outputs": [
    {
     "name": "stdout",
     "output_type": "stream",
     "text": [
      "0            PC_GDP\n",
      "50          USD_CAP\n",
      "2708    PC_HEALTHXP\n",
      "Name: MEASURE, dtype: object\n"
     ]
    }
   ],
   "source": [
    "print(HealthExp_df3[\"MEASURE\"])"
   ]
  },
  {
   "cell_type": "code",
   "execution_count": 428,
   "id": "16d6b7c3",
   "metadata": {},
   "outputs": [],
   "source": [
    "HealthExp_df4 = HealthExp_df.drop_duplicates(subset=\"TIME\")"
   ]
  },
  {
   "cell_type": "code",
   "execution_count": 429,
   "id": "f093cb42",
   "metadata": {},
   "outputs": [
    {
     "data": {
      "text/plain": [
       "52"
      ]
     },
     "execution_count": 429,
     "metadata": {},
     "output_type": "execute_result"
    }
   ],
   "source": [
    "HealthExp_df4[\"TIME\"].count()"
   ]
  },
  {
   "cell_type": "markdown",
   "id": "a3d58054",
   "metadata": {},
   "source": [
    "2-b) EU Population Data"
   ]
  },
  {
   "cell_type": "code",
   "execution_count": 430,
   "id": "e8b381be",
   "metadata": {},
   "outputs": [
    {
     "name": "stdout",
     "output_type": "stream",
     "text": [
      "<class 'pandas.core.frame.DataFrame'>\n",
      "RangeIndex: 29 entries, 0 to 28\n",
      "Data columns (total 2 columns):\n",
      " #   Column   Non-Null Count  Dtype \n",
      "---  ------   --------------  ----- \n",
      " 0   Country  29 non-null     object\n",
      " 1   2022     29 non-null     int64 \n",
      "dtypes: int64(1), object(1)\n",
      "memory usage: 592.0+ bytes\n",
      "None\n"
     ]
    }
   ],
   "source": [
    "print(EUPop_df.info())"
   ]
  },
  {
   "cell_type": "code",
   "execution_count": 431,
   "id": "994fd2a5",
   "metadata": {},
   "outputs": [
    {
     "name": "stdout",
     "output_type": "stream",
     "text": [
      "          Country      2022\n",
      "0        Bulgaria   6838937\n",
      "1  Czech Republic  10516707\n",
      "2         Denmark   5873420\n",
      "3         Estonia   1331796\n",
      "4         Ireland   5060005\n"
     ]
    }
   ],
   "source": [
    "print(EUPop_df.head())"
   ]
  },
  {
   "cell_type": "code",
   "execution_count": 432,
   "id": "a46a85b9",
   "metadata": {},
   "outputs": [
    {
     "name": "stdout",
     "output_type": "stream",
     "text": [
      "(29, 2)\n"
     ]
    }
   ],
   "source": [
    "print(EUPop_df.shape)"
   ]
  },
  {
   "cell_type": "markdown",
   "id": "84c802a9",
   "metadata": {},
   "source": [
    "2-c) EU 27 Data"
   ]
  },
  {
   "cell_type": "code",
   "execution_count": 433,
   "id": "487d17b0",
   "metadata": {},
   "outputs": [
    {
     "name": "stdout",
     "output_type": "stream",
     "text": [
      "<class 'pandas.core.frame.DataFrame'>\n",
      "RangeIndex: 27 entries, 0 to 26\n",
      "Data columns (total 2 columns):\n",
      " #   Column    Non-Null Count  Dtype \n",
      "---  ------    --------------  ----- \n",
      " 0   LOCATION  27 non-null     object\n",
      " 1   Country   27 non-null     object\n",
      "dtypes: object(2)\n",
      "memory usage: 560.0+ bytes\n",
      "None\n"
     ]
    }
   ],
   "source": [
    "print(EU27_df.info())"
   ]
  },
  {
   "cell_type": "code",
   "execution_count": 434,
   "id": "968e1792",
   "metadata": {},
   "outputs": [
    {
     "name": "stdout",
     "output_type": "stream",
     "text": [
      "  LOCATION         Country\n",
      "0      AUT         Austria\n",
      "1      BEL         Belgium\n",
      "2      CZE  Czech Republic\n",
      "3      DNK         Denmark\n",
      "4      FIN         Finland\n"
     ]
    }
   ],
   "source": [
    "print(EU27_df.head())"
   ]
  },
  {
   "cell_type": "code",
   "execution_count": 435,
   "id": "c67d6893",
   "metadata": {},
   "outputs": [
    {
     "name": "stdout",
     "output_type": "stream",
     "text": [
      "(27, 2)\n"
     ]
    }
   ],
   "source": [
    "print(EU27_df.shape)"
   ]
  },
  {
   "cell_type": "code",
   "execution_count": 436,
   "id": "b48c902b",
   "metadata": {},
   "outputs": [],
   "source": [
    "EU27_df2 = EU27_df.drop_duplicates(subset=\"Country\")"
   ]
  },
  {
   "cell_type": "code",
   "execution_count": 437,
   "id": "793dfa42",
   "metadata": {},
   "outputs": [
    {
     "data": {
      "text/plain": [
       "27"
      ]
     },
     "execution_count": 437,
     "metadata": {},
     "output_type": "execute_result"
    }
   ],
   "source": [
    "EU27_df2[\"Country\"].count()"
   ]
  },
  {
   "cell_type": "markdown",
   "id": "1fbe6fd1",
   "metadata": {},
   "source": [
    "2-d) Covid 19 Data"
   ]
  },
  {
   "cell_type": "code",
   "execution_count": 438,
   "id": "280e926e",
   "metadata": {},
   "outputs": [
    {
     "name": "stdout",
     "output_type": "stream",
     "text": [
      "<class 'pandas.core.frame.DataFrame'>\n",
      "RangeIndex: 197 entries, 0 to 196\n",
      "Data columns (total 12 columns):\n",
      " #   Column          Non-Null Count  Dtype \n",
      "---  ------          --------------  ----- \n",
      " 0   ID              197 non-null    object\n",
      " 1   Country         197 non-null    object\n",
      " 2   CountryCode     197 non-null    object\n",
      " 3   Slug            197 non-null    object\n",
      " 4   NewConfirmed    197 non-null    int64 \n",
      " 5   TotalConfirmed  197 non-null    int64 \n",
      " 6   NewDeaths       197 non-null    int64 \n",
      " 7   TotalDeaths     197 non-null    int64 \n",
      " 8   NewRecovered    197 non-null    int64 \n",
      " 9   TotalRecovered  197 non-null    int64 \n",
      " 10  Date            197 non-null    object\n",
      " 11  Premium         197 non-null    object\n",
      "dtypes: int64(6), object(6)\n",
      "memory usage: 18.6+ KB\n",
      "None\n"
     ]
    }
   ],
   "source": [
    "print(Covid19_df.info())"
   ]
  },
  {
   "cell_type": "code",
   "execution_count": 439,
   "id": "383984d7",
   "metadata": {},
   "outputs": [
    {
     "name": "stdout",
     "output_type": "stream",
     "text": [
      "                                     ID      Country CountryCode         Slug  \\\n",
      "0  33c79bd2-570a-49be-bb1f-9d91272561ed  Afghanistan          AF  afghanistan   \n",
      "1  69236220-9c64-4847-a0fc-24d7ae96751b      Albania          AL      albania   \n",
      "2  ca282daf-5508-425d-982d-aa82a0832f74      Algeria          DZ      algeria   \n",
      "3  d5ce08ca-3b61-4e1c-b339-fa4f09e9998b      Andorra          AD      andorra   \n",
      "4  31a192d9-72d0-4fc6-a933-5435043d8470       Angola          AO       angola   \n",
      "\n",
      "   NewConfirmed  TotalConfirmed  NewDeaths  TotalDeaths  NewRecovered  \\\n",
      "0             0          208084          0         7864             0   \n",
      "1            13          334097          0         3596             0   \n",
      "2            12          271328          0         6881             0   \n",
      "3             0           47820          0          165             0   \n",
      "4             0          105095          0         1930             0   \n",
      "\n",
      "   TotalRecovered                      Date Premium  \n",
      "0               0  2023-01-23T03:45:19.923Z      {}  \n",
      "1               0  2023-01-23T03:45:19.923Z      {}  \n",
      "2               0  2023-01-23T03:45:19.923Z      {}  \n",
      "3               0  2023-01-23T03:45:19.923Z      {}  \n",
      "4               0  2023-01-23T03:45:19.923Z      {}  \n"
     ]
    }
   ],
   "source": [
    "print(Covid19_df.head())"
   ]
  },
  {
   "cell_type": "code",
   "execution_count": 440,
   "id": "034ab16d",
   "metadata": {},
   "outputs": [
    {
     "name": "stdout",
     "output_type": "stream",
     "text": [
      "(197, 12)\n"
     ]
    }
   ],
   "source": [
    "print(Covid19_df.shape)"
   ]
  },
  {
   "cell_type": "code",
   "execution_count": 441,
   "id": "fe6c0e64",
   "metadata": {},
   "outputs": [],
   "source": [
    "Covid19_df2 = Covid19_df.drop_duplicates(subset=\"Country\")"
   ]
  },
  {
   "cell_type": "code",
   "execution_count": 442,
   "id": "84df100f",
   "metadata": {},
   "outputs": [
    {
     "data": {
      "text/plain": [
       "197"
      ]
     },
     "execution_count": 442,
     "metadata": {},
     "output_type": "execute_result"
    }
   ],
   "source": [
    "Covid19_df2[\"Country\"].count()"
   ]
  },
  {
   "cell_type": "code",
   "execution_count": 443,
   "id": "03bba3b6",
   "metadata": {},
   "outputs": [
    {
     "data": {
      "text/plain": [
       "6732024"
      ]
     },
     "execution_count": 443,
     "metadata": {},
     "output_type": "execute_result"
    }
   ],
   "source": [
    "Covid19_df2[\"TotalDeaths\"].sum()"
   ]
  },
  {
   "cell_type": "code",
   "execution_count": 444,
   "id": "eb3cecfa",
   "metadata": {},
   "outputs": [
    {
     "data": {
      "text/plain": [
       "1104118"
      ]
     },
     "execution_count": 444,
     "metadata": {},
     "output_type": "execute_result"
    }
   ],
   "source": [
    "Covid19_df2[\"TotalDeaths\"].max()"
   ]
  },
  {
   "cell_type": "code",
   "execution_count": 445,
   "id": "506ecbc7",
   "metadata": {},
   "outputs": [],
   "source": [
    "Covid19_df3 = Covid19_df2[Covid19_df2[\"TotalDeaths\"]== 1104118]"
   ]
  },
  {
   "cell_type": "code",
   "execution_count": 446,
   "id": "8a9e9d4d",
   "metadata": {},
   "outputs": [
    {
     "name": "stdout",
     "output_type": "stream",
     "text": [
      "188    United States of America\n",
      "Name: Country, dtype: object\n"
     ]
    }
   ],
   "source": [
    "print(Covid19_df3[\"Country\"])"
   ]
  },
  {
   "cell_type": "code",
   "execution_count": 447,
   "id": "978bbe24",
   "metadata": {},
   "outputs": [
    {
     "data": {
      "text/html": [
       "<div>\n",
       "<style scoped>\n",
       "    .dataframe tbody tr th:only-of-type {\n",
       "        vertical-align: middle;\n",
       "    }\n",
       "\n",
       "    .dataframe tbody tr th {\n",
       "        vertical-align: top;\n",
       "    }\n",
       "\n",
       "    .dataframe thead th {\n",
       "        text-align: right;\n",
       "    }\n",
       "</style>\n",
       "<table border=\"1\" class=\"dataframe\">\n",
       "  <thead>\n",
       "    <tr style=\"text-align: right;\">\n",
       "      <th></th>\n",
       "      <th>ID</th>\n",
       "      <th>Country</th>\n",
       "      <th>CountryCode</th>\n",
       "      <th>Slug</th>\n",
       "      <th>NewConfirmed</th>\n",
       "      <th>TotalConfirmed</th>\n",
       "      <th>NewDeaths</th>\n",
       "      <th>TotalDeaths</th>\n",
       "      <th>NewRecovered</th>\n",
       "      <th>TotalRecovered</th>\n",
       "      <th>Date</th>\n",
       "      <th>Premium</th>\n",
       "    </tr>\n",
       "  </thead>\n",
       "  <tbody>\n",
       "    <tr>\n",
       "      <th>5</th>\n",
       "      <td>80e19a03-6503-4dd5-ba37-c250da75a7ba</td>\n",
       "      <td>Antarctica</td>\n",
       "      <td>AQ</td>\n",
       "      <td>antarctica</td>\n",
       "      <td>0</td>\n",
       "      <td>11</td>\n",
       "      <td>0</td>\n",
       "      <td>0</td>\n",
       "      <td>0</td>\n",
       "      <td>0</td>\n",
       "      <td>2023-01-23T03:45:19.923Z</td>\n",
       "      <td>{}</td>\n",
       "    </tr>\n",
       "    <tr>\n",
       "      <th>73</th>\n",
       "      <td>43f78ddc-9279-4963-8b15-5d991bc07b68</td>\n",
       "      <td>Holy See (Vatican City State)</td>\n",
       "      <td>VA</td>\n",
       "      <td>holy-see-vatican-city-state</td>\n",
       "      <td>0</td>\n",
       "      <td>29</td>\n",
       "      <td>0</td>\n",
       "      <td>0</td>\n",
       "      <td>0</td>\n",
       "      <td>0</td>\n",
       "      <td>2023-01-23T03:45:19.923Z</td>\n",
       "      <td>{}</td>\n",
       "    </tr>\n",
       "    <tr>\n",
       "      <th>183</th>\n",
       "      <td>ee9e7e13-f6b6-4f03-a97a-16678cbc4687</td>\n",
       "      <td>Tuvalu</td>\n",
       "      <td>TV</td>\n",
       "      <td>tuvalu</td>\n",
       "      <td>0</td>\n",
       "      <td>2805</td>\n",
       "      <td>0</td>\n",
       "      <td>0</td>\n",
       "      <td>0</td>\n",
       "      <td>0</td>\n",
       "      <td>2023-01-23T03:45:19.923Z</td>\n",
       "      <td>{}</td>\n",
       "    </tr>\n",
       "    <tr>\n",
       "      <th>123</th>\n",
       "      <td>b726c3e4-3f57-459d-b83e-88d6278b2a69</td>\n",
       "      <td>Nauru</td>\n",
       "      <td>NR</td>\n",
       "      <td>nauru</td>\n",
       "      <td>0</td>\n",
       "      <td>4621</td>\n",
       "      <td>0</td>\n",
       "      <td>1</td>\n",
       "      <td>0</td>\n",
       "      <td>0</td>\n",
       "      <td>2023-01-23T03:45:19.923Z</td>\n",
       "      <td>{}</td>\n",
       "    </tr>\n",
       "    <tr>\n",
       "      <th>90</th>\n",
       "      <td>768e58f4-0e5f-4922-9492-e17274fe503c</td>\n",
       "      <td>Korea (North)</td>\n",
       "      <td>KP</td>\n",
       "      <td>korea-north</td>\n",
       "      <td>0</td>\n",
       "      <td>1</td>\n",
       "      <td>0</td>\n",
       "      <td>6</td>\n",
       "      <td>0</td>\n",
       "      <td>0</td>\n",
       "      <td>2023-01-23T03:45:19.923Z</td>\n",
       "      <td>{}</td>\n",
       "    </tr>\n",
       "    <tr>\n",
       "      <th>...</th>\n",
       "      <td>...</td>\n",
       "      <td>...</td>\n",
       "      <td>...</td>\n",
       "      <td>...</td>\n",
       "      <td>...</td>\n",
       "      <td>...</td>\n",
       "      <td>...</td>\n",
       "      <td>...</td>\n",
       "      <td>...</td>\n",
       "      <td>...</td>\n",
       "      <td>...</td>\n",
       "      <td>...</td>\n",
       "    </tr>\n",
       "    <tr>\n",
       "      <th>113</th>\n",
       "      <td>50ae332f-a512-40c7-ad15-5c7a4ba70c9d</td>\n",
       "      <td>Mexico</td>\n",
       "      <td>MX</td>\n",
       "      <td>mexico</td>\n",
       "      <td>21646</td>\n",
       "      <td>7337100</td>\n",
       "      <td>224</td>\n",
       "      <td>331829</td>\n",
       "      <td>0</td>\n",
       "      <td>0</td>\n",
       "      <td>2023-01-23T03:45:19.923Z</td>\n",
       "      <td>{}</td>\n",
       "    </tr>\n",
       "    <tr>\n",
       "      <th>145</th>\n",
       "      <td>e0c17a41-eda2-4980-8300-60efb4d1c10d</td>\n",
       "      <td>Russian Federation</td>\n",
       "      <td>RU</td>\n",
       "      <td>russia</td>\n",
       "      <td>11894</td>\n",
       "      <td>21573690</td>\n",
       "      <td>78</td>\n",
       "      <td>386666</td>\n",
       "      <td>0</td>\n",
       "      <td>0</td>\n",
       "      <td>2023-01-23T03:45:19.923Z</td>\n",
       "      <td>{}</td>\n",
       "    </tr>\n",
       "    <tr>\n",
       "      <th>77</th>\n",
       "      <td>fb2993ee-7ebb-4862-a761-382dff2ff9e0</td>\n",
       "      <td>India</td>\n",
       "      <td>IN</td>\n",
       "      <td>india</td>\n",
       "      <td>131</td>\n",
       "      <td>44683005</td>\n",
       "      <td>2</td>\n",
       "      <td>530730</td>\n",
       "      <td>0</td>\n",
       "      <td>0</td>\n",
       "      <td>2023-01-23T03:45:19.923Z</td>\n",
       "      <td>{}</td>\n",
       "    </tr>\n",
       "    <tr>\n",
       "      <th>24</th>\n",
       "      <td>2562c032-ac35-4949-b8e1-b92f7ea7520e</td>\n",
       "      <td>Brazil</td>\n",
       "      <td>BR</td>\n",
       "      <td>brazil</td>\n",
       "      <td>4650</td>\n",
       "      <td>36717501</td>\n",
       "      <td>66</td>\n",
       "      <td>696254</td>\n",
       "      <td>0</td>\n",
       "      <td>0</td>\n",
       "      <td>2023-01-23T03:45:19.923Z</td>\n",
       "      <td>{}</td>\n",
       "    </tr>\n",
       "    <tr>\n",
       "      <th>188</th>\n",
       "      <td>c214bd36-3149-45f8-8425-8fe80b239d19</td>\n",
       "      <td>United States of America</td>\n",
       "      <td>US</td>\n",
       "      <td>united-states</td>\n",
       "      <td>4469</td>\n",
       "      <td>102003090</td>\n",
       "      <td>15</td>\n",
       "      <td>1104118</td>\n",
       "      <td>0</td>\n",
       "      <td>0</td>\n",
       "      <td>2023-01-23T03:45:19.923Z</td>\n",
       "      <td>{}</td>\n",
       "    </tr>\n",
       "  </tbody>\n",
       "</table>\n",
       "<p>197 rows × 12 columns</p>\n",
       "</div>"
      ],
      "text/plain": [
       "                                       ID                        Country  \\\n",
       "5    80e19a03-6503-4dd5-ba37-c250da75a7ba                     Antarctica   \n",
       "73   43f78ddc-9279-4963-8b15-5d991bc07b68  Holy See (Vatican City State)   \n",
       "183  ee9e7e13-f6b6-4f03-a97a-16678cbc4687                         Tuvalu   \n",
       "123  b726c3e4-3f57-459d-b83e-88d6278b2a69                          Nauru   \n",
       "90   768e58f4-0e5f-4922-9492-e17274fe503c                  Korea (North)   \n",
       "..                                    ...                            ...   \n",
       "113  50ae332f-a512-40c7-ad15-5c7a4ba70c9d                         Mexico   \n",
       "145  e0c17a41-eda2-4980-8300-60efb4d1c10d             Russian Federation   \n",
       "77   fb2993ee-7ebb-4862-a761-382dff2ff9e0                          India   \n",
       "24   2562c032-ac35-4949-b8e1-b92f7ea7520e                         Brazil   \n",
       "188  c214bd36-3149-45f8-8425-8fe80b239d19       United States of America   \n",
       "\n",
       "    CountryCode                         Slug  NewConfirmed  TotalConfirmed  \\\n",
       "5            AQ                   antarctica             0              11   \n",
       "73           VA  holy-see-vatican-city-state             0              29   \n",
       "183          TV                       tuvalu             0            2805   \n",
       "123          NR                        nauru             0            4621   \n",
       "90           KP                  korea-north             0               1   \n",
       "..          ...                          ...           ...             ...   \n",
       "113          MX                       mexico         21646         7337100   \n",
       "145          RU                       russia         11894        21573690   \n",
       "77           IN                        india           131        44683005   \n",
       "24           BR                       brazil          4650        36717501   \n",
       "188          US                united-states          4469       102003090   \n",
       "\n",
       "     NewDeaths  TotalDeaths  NewRecovered  TotalRecovered  \\\n",
       "5            0            0             0               0   \n",
       "73           0            0             0               0   \n",
       "183          0            0             0               0   \n",
       "123          0            1             0               0   \n",
       "90           0            6             0               0   \n",
       "..         ...          ...           ...             ...   \n",
       "113        224       331829             0               0   \n",
       "145         78       386666             0               0   \n",
       "77           2       530730             0               0   \n",
       "24          66       696254             0               0   \n",
       "188         15      1104118             0               0   \n",
       "\n",
       "                         Date Premium  \n",
       "5    2023-01-23T03:45:19.923Z      {}  \n",
       "73   2023-01-23T03:45:19.923Z      {}  \n",
       "183  2023-01-23T03:45:19.923Z      {}  \n",
       "123  2023-01-23T03:45:19.923Z      {}  \n",
       "90   2023-01-23T03:45:19.923Z      {}  \n",
       "..                        ...     ...  \n",
       "113  2023-01-23T03:45:19.923Z      {}  \n",
       "145  2023-01-23T03:45:19.923Z      {}  \n",
       "77   2023-01-23T03:45:19.923Z      {}  \n",
       "24   2023-01-23T03:45:19.923Z      {}  \n",
       "188  2023-01-23T03:45:19.923Z      {}  \n",
       "\n",
       "[197 rows x 12 columns]"
      ]
     },
     "execution_count": 447,
     "metadata": {},
     "output_type": "execute_result"
    }
   ],
   "source": [
    "Covid19_df2.sort_values(\"TotalDeaths\")"
   ]
  },
  {
   "cell_type": "code",
   "execution_count": 448,
   "id": "f694c03e",
   "metadata": {},
   "outputs": [],
   "source": [
    "Covid19_df4 = Covid19_df2[Covid19_df2[\"TotalDeaths\"]< 100]"
   ]
  },
  {
   "cell_type": "code",
   "execution_count": 449,
   "id": "e31cfa01",
   "metadata": {},
   "outputs": [
    {
     "name": "stdout",
     "output_type": "stream",
     "text": [
      "5                        Antarctica\n",
      "20                           Bhutan\n",
      "28                          Burundi\n",
      "49                         Dominica\n",
      "73    Holy See (Vatican City State)\n",
      "Name: Country, dtype: object\n"
     ]
    }
   ],
   "source": [
    "print(Covid19_df4[\"Country\"].head())"
   ]
  },
  {
   "cell_type": "code",
   "execution_count": 450,
   "id": "7710df9b",
   "metadata": {},
   "outputs": [
    {
     "data": {
      "text/plain": [
       "sum     666347597\n",
       "amin            1\n",
       "amax    102003090\n",
       "Name: TotalConfirmed, dtype: int64"
      ]
     },
     "execution_count": 450,
     "metadata": {},
     "output_type": "execute_result"
    }
   ],
   "source": [
    "Covid19_df2[\"TotalConfirmed\"].agg([np.sum, np.min, np.max])"
   ]
  },
  {
   "cell_type": "markdown",
   "id": "f3249dff",
   "metadata": {},
   "source": [
    "2-e) Exchange Rate Data"
   ]
  },
  {
   "cell_type": "code",
   "execution_count": 451,
   "id": "37b0f8cb",
   "metadata": {},
   "outputs": [
    {
     "name": "stdout",
     "output_type": "stream",
     "text": [
      "             date        eur\n",
      "1inch  2023-01-23   2.081234\n",
      "aave   2023-01-23   0.012500\n",
      "ada    2023-01-23   2.857970\n",
      "aed    2023-01-23   3.997933\n",
      "afn    2023-01-23  96.779186\n"
     ]
    }
   ],
   "source": [
    "print(CurrExch_df.head())"
   ]
  },
  {
   "cell_type": "code",
   "execution_count": 452,
   "id": "613e84a6",
   "metadata": {},
   "outputs": [
    {
     "name": "stdout",
     "output_type": "stream",
     "text": [
      "<class 'pandas.core.frame.DataFrame'>\n",
      "Index: 272 entries, 1inch to zwl\n",
      "Data columns (total 2 columns):\n",
      " #   Column  Non-Null Count  Dtype  \n",
      "---  ------  --------------  -----  \n",
      " 0   date    272 non-null    object \n",
      " 1   eur     272 non-null    float64\n",
      "dtypes: float64(1), object(1)\n",
      "memory usage: 6.4+ KB\n",
      "None\n"
     ]
    }
   ],
   "source": [
    "print(CurrExch_df.info())"
   ]
  },
  {
   "cell_type": "code",
   "execution_count": 453,
   "id": "d2c70a09",
   "metadata": {},
   "outputs": [
    {
     "name": "stdout",
     "output_type": "stream",
     "text": [
      "(272, 2)\n"
     ]
    }
   ],
   "source": [
    "print(CurrExch_df.shape)"
   ]
  },
  {
   "cell_type": "code",
   "execution_count": 454,
   "id": "833c2c93",
   "metadata": {},
   "outputs": [
    {
     "data": {
      "text/html": [
       "<div>\n",
       "<style scoped>\n",
       "    .dataframe tbody tr th:only-of-type {\n",
       "        vertical-align: middle;\n",
       "    }\n",
       "\n",
       "    .dataframe tbody tr th {\n",
       "        vertical-align: top;\n",
       "    }\n",
       "\n",
       "    .dataframe thead th {\n",
       "        text-align: right;\n",
       "    }\n",
       "</style>\n",
       "<table border=\"1\" class=\"dataframe\">\n",
       "  <thead>\n",
       "    <tr style=\"text-align: right;\">\n",
       "      <th></th>\n",
       "      <th>date</th>\n",
       "      <th>eur</th>\n",
       "    </tr>\n",
       "  </thead>\n",
       "  <tbody>\n",
       "    <tr>\n",
       "      <th>zwl</th>\n",
       "      <td>2023-01-23</td>\n",
       "      <td>350.483416</td>\n",
       "    </tr>\n",
       "    <tr>\n",
       "      <th>zmw</th>\n",
       "      <td>2023-01-23</td>\n",
       "      <td>20.187292</td>\n",
       "    </tr>\n",
       "    <tr>\n",
       "      <th>zmk</th>\n",
       "      <td>2023-01-23</td>\n",
       "      <td>9797.495604</td>\n",
       "    </tr>\n",
       "    <tr>\n",
       "      <th>zil</th>\n",
       "      <td>2023-01-23</td>\n",
       "      <td>39.808720</td>\n",
       "    </tr>\n",
       "    <tr>\n",
       "      <th>zec</th>\n",
       "      <td>2023-01-23</td>\n",
       "      <td>0.022771</td>\n",
       "    </tr>\n",
       "    <tr>\n",
       "      <th>...</th>\n",
       "      <td>...</td>\n",
       "      <td>...</td>\n",
       "    </tr>\n",
       "    <tr>\n",
       "      <th>afn</th>\n",
       "      <td>2023-01-23</td>\n",
       "      <td>96.779186</td>\n",
       "    </tr>\n",
       "    <tr>\n",
       "      <th>aed</th>\n",
       "      <td>2023-01-23</td>\n",
       "      <td>3.997933</td>\n",
       "    </tr>\n",
       "    <tr>\n",
       "      <th>ada</th>\n",
       "      <td>2023-01-23</td>\n",
       "      <td>2.857970</td>\n",
       "    </tr>\n",
       "    <tr>\n",
       "      <th>aave</th>\n",
       "      <td>2023-01-23</td>\n",
       "      <td>0.012500</td>\n",
       "    </tr>\n",
       "    <tr>\n",
       "      <th>1inch</th>\n",
       "      <td>2023-01-23</td>\n",
       "      <td>2.081234</td>\n",
       "    </tr>\n",
       "  </tbody>\n",
       "</table>\n",
       "<p>272 rows × 2 columns</p>\n",
       "</div>"
      ],
      "text/plain": [
       "             date          eur\n",
       "zwl    2023-01-23   350.483416\n",
       "zmw    2023-01-23    20.187292\n",
       "zmk    2023-01-23  9797.495604\n",
       "zil    2023-01-23    39.808720\n",
       "zec    2023-01-23     0.022771\n",
       "...           ...          ...\n",
       "afn    2023-01-23    96.779186\n",
       "aed    2023-01-23     3.997933\n",
       "ada    2023-01-23     2.857970\n",
       "aave   2023-01-23     0.012500\n",
       "1inch  2023-01-23     2.081234\n",
       "\n",
       "[272 rows x 2 columns]"
      ]
     },
     "execution_count": 454,
     "metadata": {},
     "output_type": "execute_result"
    }
   ],
   "source": [
    "CurrExch_df.sort_index(ascending = False)"
   ]
  },
  {
   "cell_type": "markdown",
   "id": "f96ac1dd",
   "metadata": {},
   "source": [
    "# 3) PREPARATION & ANALYSIS (Dict/Lists, Cond Statmts, Loop, Groupby)"
   ]
  },
  {
   "cell_type": "markdown",
   "id": "f6679a5b",
   "metadata": {},
   "source": [
    "3-a) EU 27 Data: Identifying Countries using the EURO"
   ]
  },
  {
   "cell_type": "code",
   "execution_count": 455,
   "id": "23164d07",
   "metadata": {},
   "outputs": [],
   "source": [
    "EURO_countries = [\"Germany\", \"Italy\", \"Spain\", \"France\", \"Belgium\", \"Portugal\", \"Ireland\", \"Netherlands\", \"Luxembourg\", \"Austria\", \"Greece\", \"Finland\", \"Slovenia\", \"Cyprus\", \"Malta\", \"Slovakia\", \"Estonia\", \"Latvia\", \"Lithuania\", \"Croatia\"]"
   ]
  },
  {
   "cell_type": "code",
   "execution_count": 456,
   "id": "1a521e41",
   "metadata": {},
   "outputs": [
    {
     "name": "stdout",
     "output_type": "stream",
     "text": [
      "  LOCATION         Country        EURO_Status\n",
      "0      AUT         Austria          Uses EURO\n",
      "1      BEL         Belgium          Uses EURO\n",
      "2      CZE  Czech Republic  Does not use EURO\n",
      "3      DNK         Denmark  Does not use EURO\n",
      "4      FIN         Finland          Uses EURO\n"
     ]
    }
   ],
   "source": [
    "result = []\n",
    "for value in EU27_df[\"Country\"]:\n",
    "    if value in EURO_countries:\n",
    "        result.append(\"Uses EURO\")\n",
    "    else:\n",
    "        result.append(\"Does not use EURO\")\n",
    "        \n",
    "EU27_df[\"EURO_Status\"]= result\n",
    "print(EU27_df.head())"
   ]
  },
  {
   "cell_type": "code",
   "execution_count": 457,
   "id": "f8297f71",
   "metadata": {},
   "outputs": [],
   "source": [
    "EU27_df3 = EU27_df[EU27_df[\"EURO_Status\"]== \"Uses EURO\"]"
   ]
  },
  {
   "cell_type": "code",
   "execution_count": 458,
   "id": "df647d01",
   "metadata": {},
   "outputs": [
    {
     "data": {
      "text/plain": [
       "20"
      ]
     },
     "execution_count": 458,
     "metadata": {},
     "output_type": "execute_result"
    }
   ],
   "source": [
    "EU27_df3[\"Country\"].count()"
   ]
  },
  {
   "cell_type": "code",
   "execution_count": 459,
   "id": "4e2bccaf",
   "metadata": {},
   "outputs": [],
   "source": [
    "EU27_df4 = EU27_df.groupby(\"EURO_Status\")"
   ]
  },
  {
   "cell_type": "code",
   "execution_count": 460,
   "id": "678158cd",
   "metadata": {},
   "outputs": [
    {
     "data": {
      "text/html": [
       "<div>\n",
       "<style scoped>\n",
       "    .dataframe tbody tr th:only-of-type {\n",
       "        vertical-align: middle;\n",
       "    }\n",
       "\n",
       "    .dataframe tbody tr th {\n",
       "        vertical-align: top;\n",
       "    }\n",
       "\n",
       "    .dataframe thead th {\n",
       "        text-align: right;\n",
       "    }\n",
       "</style>\n",
       "<table border=\"1\" class=\"dataframe\">\n",
       "  <thead>\n",
       "    <tr style=\"text-align: right;\">\n",
       "      <th></th>\n",
       "      <th>LOCATION</th>\n",
       "      <th>Country</th>\n",
       "      <th>EURO_Status</th>\n",
       "    </tr>\n",
       "  </thead>\n",
       "  <tbody>\n",
       "    <tr>\n",
       "      <th>0</th>\n",
       "      <td>AUT</td>\n",
       "      <td>Austria</td>\n",
       "      <td>Uses EURO</td>\n",
       "    </tr>\n",
       "    <tr>\n",
       "      <th>1</th>\n",
       "      <td>BEL</td>\n",
       "      <td>Belgium</td>\n",
       "      <td>Uses EURO</td>\n",
       "    </tr>\n",
       "    <tr>\n",
       "      <th>4</th>\n",
       "      <td>FIN</td>\n",
       "      <td>Finland</td>\n",
       "      <td>Uses EURO</td>\n",
       "    </tr>\n",
       "    <tr>\n",
       "      <th>5</th>\n",
       "      <td>FRA</td>\n",
       "      <td>France</td>\n",
       "      <td>Uses EURO</td>\n",
       "    </tr>\n",
       "    <tr>\n",
       "      <th>6</th>\n",
       "      <td>DEU</td>\n",
       "      <td>Germany</td>\n",
       "      <td>Uses EURO</td>\n",
       "    </tr>\n",
       "    <tr>\n",
       "      <th>7</th>\n",
       "      <td>GRC</td>\n",
       "      <td>Greece</td>\n",
       "      <td>Uses EURO</td>\n",
       "    </tr>\n",
       "    <tr>\n",
       "      <th>9</th>\n",
       "      <td>IRL</td>\n",
       "      <td>Ireland</td>\n",
       "      <td>Uses EURO</td>\n",
       "    </tr>\n",
       "    <tr>\n",
       "      <th>10</th>\n",
       "      <td>ITA</td>\n",
       "      <td>Italy</td>\n",
       "      <td>Uses EURO</td>\n",
       "    </tr>\n",
       "    <tr>\n",
       "      <th>11</th>\n",
       "      <td>LUX</td>\n",
       "      <td>Luxembourg</td>\n",
       "      <td>Uses EURO</td>\n",
       "    </tr>\n",
       "    <tr>\n",
       "      <th>12</th>\n",
       "      <td>NLD</td>\n",
       "      <td>Netherlands</td>\n",
       "      <td>Uses EURO</td>\n",
       "    </tr>\n",
       "    <tr>\n",
       "      <th>14</th>\n",
       "      <td>PRT</td>\n",
       "      <td>Portugal</td>\n",
       "      <td>Uses EURO</td>\n",
       "    </tr>\n",
       "    <tr>\n",
       "      <th>15</th>\n",
       "      <td>SVK</td>\n",
       "      <td>Slovakia</td>\n",
       "      <td>Uses EURO</td>\n",
       "    </tr>\n",
       "    <tr>\n",
       "      <th>16</th>\n",
       "      <td>ESP</td>\n",
       "      <td>Spain</td>\n",
       "      <td>Uses EURO</td>\n",
       "    </tr>\n",
       "    <tr>\n",
       "      <th>18</th>\n",
       "      <td>EST</td>\n",
       "      <td>Estonia</td>\n",
       "      <td>Uses EURO</td>\n",
       "    </tr>\n",
       "    <tr>\n",
       "      <th>19</th>\n",
       "      <td>SVN</td>\n",
       "      <td>Slovenia</td>\n",
       "      <td>Uses EURO</td>\n",
       "    </tr>\n",
       "    <tr>\n",
       "      <th>20</th>\n",
       "      <td>LVA</td>\n",
       "      <td>Latvia</td>\n",
       "      <td>Uses EURO</td>\n",
       "    </tr>\n",
       "    <tr>\n",
       "      <th>21</th>\n",
       "      <td>LTU</td>\n",
       "      <td>Lithuania</td>\n",
       "      <td>Uses EURO</td>\n",
       "    </tr>\n",
       "    <tr>\n",
       "      <th>23</th>\n",
       "      <td>HRV</td>\n",
       "      <td>Croatia</td>\n",
       "      <td>Uses EURO</td>\n",
       "    </tr>\n",
       "    <tr>\n",
       "      <th>24</th>\n",
       "      <td>CYP</td>\n",
       "      <td>Cyprus</td>\n",
       "      <td>Uses EURO</td>\n",
       "    </tr>\n",
       "    <tr>\n",
       "      <th>25</th>\n",
       "      <td>MLT</td>\n",
       "      <td>Malta</td>\n",
       "      <td>Uses EURO</td>\n",
       "    </tr>\n",
       "  </tbody>\n",
       "</table>\n",
       "</div>"
      ],
      "text/plain": [
       "   LOCATION      Country EURO_Status\n",
       "0       AUT      Austria   Uses EURO\n",
       "1       BEL      Belgium   Uses EURO\n",
       "4       FIN      Finland   Uses EURO\n",
       "5       FRA       France   Uses EURO\n",
       "6       DEU      Germany   Uses EURO\n",
       "7       GRC       Greece   Uses EURO\n",
       "9       IRL      Ireland   Uses EURO\n",
       "10      ITA        Italy   Uses EURO\n",
       "11      LUX   Luxembourg   Uses EURO\n",
       "12      NLD  Netherlands   Uses EURO\n",
       "14      PRT     Portugal   Uses EURO\n",
       "15      SVK     Slovakia   Uses EURO\n",
       "16      ESP        Spain   Uses EURO\n",
       "18      EST      Estonia   Uses EURO\n",
       "19      SVN     Slovenia   Uses EURO\n",
       "20      LVA       Latvia   Uses EURO\n",
       "21      LTU    Lithuania   Uses EURO\n",
       "23      HRV      Croatia   Uses EURO\n",
       "24      CYP       Cyprus   Uses EURO\n",
       "25      MLT        Malta   Uses EURO"
      ]
     },
     "execution_count": 460,
     "metadata": {},
     "output_type": "execute_result"
    }
   ],
   "source": [
    "EU27_df4.get_group(\"Uses EURO\")"
   ]
  },
  {
   "cell_type": "markdown",
   "id": "80832b93",
   "metadata": {},
   "source": [
    "3-b-1) Health Expenditure Data: Identifying average annual level of expenditure leading into Covid-19 pandemic"
   ]
  },
  {
   "cell_type": "code",
   "execution_count": 461,
   "id": "8c0e60a1",
   "metadata": {},
   "outputs": [
    {
     "name": "stdout",
     "output_type": "stream",
     "text": [
      "  LOCATION  INDICATOR SUBJECT MEASURE FREQUENCY  TIME  Value Flag Codes\n",
      "0      AUS  HEALTHEXP     TOT  PC_GDP         A  1971  4.540        NaN\n",
      "1      AUS  HEALTHEXP     TOT  PC_GDP         A  1972  4.539        NaN\n",
      "2      AUS  HEALTHEXP     TOT  PC_GDP         A  1973  4.504        NaN\n",
      "3      AUS  HEALTHEXP     TOT  PC_GDP         A  1974  5.104        NaN\n",
      "4      AUS  HEALTHEXP     TOT  PC_GDP         A  1975  5.750        NaN\n"
     ]
    }
   ],
   "source": [
    "print(HealthExp_df.head())"
   ]
  },
  {
   "cell_type": "code",
   "execution_count": 462,
   "id": "b4af42fe",
   "metadata": {},
   "outputs": [],
   "source": [
    "HealthExp_df5 = HealthExp_df[(HealthExp_df[\"MEASURE\"]== \"USD_CAP\") & (HealthExp_df[\"SUBJECT\"]== \"TOT\")]"
   ]
  },
  {
   "cell_type": "code",
   "execution_count": 463,
   "id": "e3ada87f",
   "metadata": {},
   "outputs": [
    {
     "data": {
      "text/html": [
       "<div>\n",
       "<style scoped>\n",
       "    .dataframe tbody tr th:only-of-type {\n",
       "        vertical-align: middle;\n",
       "    }\n",
       "\n",
       "    .dataframe tbody tr th {\n",
       "        vertical-align: top;\n",
       "    }\n",
       "\n",
       "    .dataframe thead th {\n",
       "        text-align: right;\n",
       "    }\n",
       "</style>\n",
       "<table border=\"1\" class=\"dataframe\">\n",
       "  <thead>\n",
       "    <tr style=\"text-align: right;\">\n",
       "      <th></th>\n",
       "      <th>LOCATION</th>\n",
       "      <th>INDICATOR</th>\n",
       "      <th>SUBJECT</th>\n",
       "      <th>MEASURE</th>\n",
       "      <th>FREQUENCY</th>\n",
       "      <th>TIME</th>\n",
       "      <th>Value</th>\n",
       "      <th>Flag Codes</th>\n",
       "    </tr>\n",
       "  </thead>\n",
       "  <tbody>\n",
       "    <tr>\n",
       "      <th>6214</th>\n",
       "      <td>USA</td>\n",
       "      <td>HEALTHEXP</td>\n",
       "      <td>TOT</td>\n",
       "      <td>USD_CAP</td>\n",
       "      <td>A</td>\n",
       "      <td>2021</td>\n",
       "      <td>12318.099</td>\n",
       "      <td>E</td>\n",
       "    </tr>\n",
       "    <tr>\n",
       "      <th>5278</th>\n",
       "      <td>DEU</td>\n",
       "      <td>HEALTHEXP</td>\n",
       "      <td>TOT</td>\n",
       "      <td>USD_CAP</td>\n",
       "      <td>A</td>\n",
       "      <td>2021</td>\n",
       "      <td>7382.634</td>\n",
       "      <td>P</td>\n",
       "    </tr>\n",
       "    <tr>\n",
       "      <th>5802</th>\n",
       "      <td>NOR</td>\n",
       "      <td>HEALTHEXP</td>\n",
       "      <td>TOT</td>\n",
       "      <td>USD_CAP</td>\n",
       "      <td>A</td>\n",
       "      <td>2021</td>\n",
       "      <td>7064.761</td>\n",
       "      <td>P</td>\n",
       "    </tr>\n",
       "    <tr>\n",
       "      <th>5699</th>\n",
       "      <td>NLD</td>\n",
       "      <td>HEALTHEXP</td>\n",
       "      <td>TOT</td>\n",
       "      <td>USD_CAP</td>\n",
       "      <td>A</td>\n",
       "      <td>2021</td>\n",
       "      <td>6752.808</td>\n",
       "      <td>P</td>\n",
       "    </tr>\n",
       "    <tr>\n",
       "      <th>4955</th>\n",
       "      <td>AUT</td>\n",
       "      <td>HEALTHEXP</td>\n",
       "      <td>TOT</td>\n",
       "      <td>USD_CAP</td>\n",
       "      <td>A</td>\n",
       "      <td>2021</td>\n",
       "      <td>6693.307</td>\n",
       "      <td>P</td>\n",
       "    </tr>\n",
       "    <tr>\n",
       "      <th>...</th>\n",
       "      <td>...</td>\n",
       "      <td>...</td>\n",
       "      <td>...</td>\n",
       "      <td>...</td>\n",
       "      <td>...</td>\n",
       "      <td>...</td>\n",
       "      <td>...</td>\n",
       "      <td>...</td>\n",
       "    </tr>\n",
       "    <tr>\n",
       "      <th>6111</th>\n",
       "      <td>GBR</td>\n",
       "      <td>HEALTHEXP</td>\n",
       "      <td>TOT</td>\n",
       "      <td>USD_CAP</td>\n",
       "      <td>A</td>\n",
       "      <td>1970</td>\n",
       "      <td>123.993</td>\n",
       "      <td>NaN</td>\n",
       "    </tr>\n",
       "    <tr>\n",
       "      <th>5394</th>\n",
       "      <td>IRL</td>\n",
       "      <td>HEALTHEXP</td>\n",
       "      <td>TOT</td>\n",
       "      <td>USD_CAP</td>\n",
       "      <td>A</td>\n",
       "      <td>1970</td>\n",
       "      <td>115.833</td>\n",
       "      <td>NaN</td>\n",
       "    </tr>\n",
       "    <tr>\n",
       "      <th>5911</th>\n",
       "      <td>ESP</td>\n",
       "      <td>HEALTHEXP</td>\n",
       "      <td>TOT</td>\n",
       "      <td>USD_CAP</td>\n",
       "      <td>A</td>\n",
       "      <td>1970</td>\n",
       "      <td>82.955</td>\n",
       "      <td>NaN</td>\n",
       "    </tr>\n",
       "    <tr>\n",
       "      <th>5835</th>\n",
       "      <td>PRT</td>\n",
       "      <td>HEALTHEXP</td>\n",
       "      <td>TOT</td>\n",
       "      <td>USD_CAP</td>\n",
       "      <td>A</td>\n",
       "      <td>1970</td>\n",
       "      <td>44.603</td>\n",
       "      <td>NaN</td>\n",
       "    </tr>\n",
       "    <tr>\n",
       "      <th>5531</th>\n",
       "      <td>KOR</td>\n",
       "      <td>HEALTHEXP</td>\n",
       "      <td>TOT</td>\n",
       "      <td>USD_CAP</td>\n",
       "      <td>A</td>\n",
       "      <td>1970</td>\n",
       "      <td>19.004</td>\n",
       "      <td>NaN</td>\n",
       "    </tr>\n",
       "  </tbody>\n",
       "</table>\n",
       "<p>1615 rows × 8 columns</p>\n",
       "</div>"
      ],
      "text/plain": [
       "     LOCATION  INDICATOR SUBJECT  MEASURE FREQUENCY  TIME      Value  \\\n",
       "6214      USA  HEALTHEXP     TOT  USD_CAP         A  2021  12318.099   \n",
       "5278      DEU  HEALTHEXP     TOT  USD_CAP         A  2021   7382.634   \n",
       "5802      NOR  HEALTHEXP     TOT  USD_CAP         A  2021   7064.761   \n",
       "5699      NLD  HEALTHEXP     TOT  USD_CAP         A  2021   6752.808   \n",
       "4955      AUT  HEALTHEXP     TOT  USD_CAP         A  2021   6693.307   \n",
       "...       ...        ...     ...      ...       ...   ...        ...   \n",
       "6111      GBR  HEALTHEXP     TOT  USD_CAP         A  1970    123.993   \n",
       "5394      IRL  HEALTHEXP     TOT  USD_CAP         A  1970    115.833   \n",
       "5911      ESP  HEALTHEXP     TOT  USD_CAP         A  1970     82.955   \n",
       "5835      PRT  HEALTHEXP     TOT  USD_CAP         A  1970     44.603   \n",
       "5531      KOR  HEALTHEXP     TOT  USD_CAP         A  1970     19.004   \n",
       "\n",
       "     Flag Codes  \n",
       "6214          E  \n",
       "5278          P  \n",
       "5802          P  \n",
       "5699          P  \n",
       "4955          P  \n",
       "...         ...  \n",
       "6111        NaN  \n",
       "5394        NaN  \n",
       "5911        NaN  \n",
       "5835        NaN  \n",
       "5531        NaN  \n",
       "\n",
       "[1615 rows x 8 columns]"
      ]
     },
     "execution_count": 463,
     "metadata": {},
     "output_type": "execute_result"
    }
   ],
   "source": [
    "HealthExp_df5.sort_values([\"TIME\", \"Value\"], ascending= [False, False])"
   ]
  },
  {
   "cell_type": "code",
   "execution_count": 464,
   "id": "268bfdb0",
   "metadata": {},
   "outputs": [
    {
     "data": {
      "text/plain": [
       "20"
      ]
     },
     "execution_count": 464,
     "metadata": {},
     "output_type": "execute_result"
    }
   ],
   "source": [
    "HealthExp_df5[HealthExp_df5[\"TIME\"]== 2021] [\"LOCATION\"].count()"
   ]
  },
  {
   "cell_type": "code",
   "execution_count": 465,
   "id": "39058095",
   "metadata": {},
   "outputs": [
    {
     "data": {
      "text/plain": [
       "42"
      ]
     },
     "execution_count": 465,
     "metadata": {},
     "output_type": "execute_result"
    }
   ],
   "source": [
    "HealthExp_df5[HealthExp_df5[\"TIME\"]== 2020] [\"LOCATION\"].count()"
   ]
  },
  {
   "cell_type": "code",
   "execution_count": 466,
   "id": "0d2fb749",
   "metadata": {},
   "outputs": [
    {
     "data": {
      "text/plain": [
       "46"
      ]
     },
     "execution_count": 466,
     "metadata": {},
     "output_type": "execute_result"
    }
   ],
   "source": [
    "HealthExp_df5[HealthExp_df5[\"TIME\"]== 2019] [\"LOCATION\"].count()"
   ]
  },
  {
   "cell_type": "code",
   "execution_count": 467,
   "id": "7e3f55b6",
   "metadata": {},
   "outputs": [
    {
     "data": {
      "text/plain": [
       "46"
      ]
     },
     "execution_count": 467,
     "metadata": {},
     "output_type": "execute_result"
    }
   ],
   "source": [
    "HealthExp_df5[HealthExp_df5[\"TIME\"]== 2018] [\"LOCATION\"].count()"
   ]
  },
  {
   "cell_type": "code",
   "execution_count": 468,
   "id": "8709c2a7",
   "metadata": {},
   "outputs": [
    {
     "data": {
      "text/plain": [
       "46"
      ]
     },
     "execution_count": 468,
     "metadata": {},
     "output_type": "execute_result"
    }
   ],
   "source": [
    "HealthExp_df5[HealthExp_df5[\"TIME\"]== 2017] [\"LOCATION\"].count()"
   ]
  },
  {
   "cell_type": "code",
   "execution_count": 469,
   "id": "6f4c0546",
   "metadata": {},
   "outputs": [],
   "source": [
    "HealthExp_df6 = HealthExp_df5[HealthExp_df5[\"TIME\"].isin([2017, 2018, 2019])]"
   ]
  },
  {
   "cell_type": "code",
   "execution_count": 470,
   "id": "3a4c81eb",
   "metadata": {},
   "outputs": [],
   "source": [
    "HealthExp_df7 = HealthExp_df6.drop(columns= [\"INDICATOR\", \"SUBJECT\", \"MEASURE\", \"FREQUENCY\", \"Flag Codes\"])"
   ]
  },
  {
   "cell_type": "code",
   "execution_count": 471,
   "id": "34923990",
   "metadata": {},
   "outputs": [
    {
     "name": "stdout",
     "output_type": "stream",
     "text": [
      "     LOCATION  TIME     Value\n",
      "4900      AUS  2017  5075.384\n",
      "4901      AUS  2018  5193.845\n",
      "4902      AUS  2019  5130.234\n",
      "4951      AUT  2017  5315.355\n",
      "4952      AUT  2018  5518.538\n"
     ]
    }
   ],
   "source": [
    "print(HealthExp_df7.head())"
   ]
  },
  {
   "cell_type": "code",
   "execution_count": 472,
   "id": "22cd4fd0",
   "metadata": {},
   "outputs": [
    {
     "name": "stdout",
     "output_type": "stream",
     "text": [
      "LOCATION\n",
      "AUS    5133.154333\n",
      "AUT    5485.969000\n",
      "BEL    5263.083667\n",
      "BGR    1751.741000\n",
      "BRA    1442.185000\n",
      "Name: Value, dtype: float64\n"
     ]
    }
   ],
   "source": [
    "HealthExp_df8 = HealthExp_df7.groupby(\"LOCATION\") [\"Value\"].mean()\n",
    "print(HealthExp_df8.head())"
   ]
  },
  {
   "cell_type": "code",
   "execution_count": 473,
   "id": "d022ee80",
   "metadata": {},
   "outputs": [
    {
     "name": "stdout",
     "output_type": "stream",
     "text": [
      "               max       min\n",
      "LOCATION                    \n",
      "AUS       5193.845  5075.384\n",
      "AUT       5624.014  5315.355\n",
      "BEL       5352.871  5121.186\n",
      "BGR       1795.621  1692.697\n",
      "BRA       1497.734  1391.372\n"
     ]
    }
   ],
   "source": [
    "HealthExp_df9 = HealthExp_df7.groupby(\"LOCATION\") [\"Value\"].agg([max, min])\n",
    "print(HealthExp_df9.head())"
   ]
  },
  {
   "cell_type": "markdown",
   "id": "70b6b164",
   "metadata": {},
   "source": [
    "3-b-2) Health Expenditure Data: Creating a DataFrame to merge with other data sources"
   ]
  },
  {
   "cell_type": "code",
   "execution_count": 474,
   "id": "87d9fc2e",
   "metadata": {},
   "outputs": [
    {
     "name": "stdout",
     "output_type": "stream",
     "text": [
      "     LOCATION  INDICATOR SUBJECT  MEASURE FREQUENCY  TIME    Value Flag Codes\n",
      "4854      AUS  HEALTHEXP     TOT  USD_CAP         A  1971  212.545        NaN\n",
      "4855      AUS  HEALTHEXP     TOT  USD_CAP         A  1972  226.524        NaN\n",
      "4856      AUS  HEALTHEXP     TOT  USD_CAP         A  1973  251.085        NaN\n",
      "4857      AUS  HEALTHEXP     TOT  USD_CAP         A  1974  306.927        NaN\n",
      "4858      AUS  HEALTHEXP     TOT  USD_CAP         A  1975  374.393        NaN\n"
     ]
    }
   ],
   "source": [
    "HealthExp_df10 = HealthExp_df[(HealthExp_df[\"MEASURE\"]== \"USD_CAP\") & (HealthExp_df[\"SUBJECT\"]== \"TOT\")]\n",
    "print(HealthExp_df10.head())"
   ]
  },
  {
   "cell_type": "code",
   "execution_count": 475,
   "id": "b693d9ed",
   "metadata": {},
   "outputs": [
    {
     "name": "stdout",
     "output_type": "stream",
     "text": [
      "     LOCATION  INDICATOR SUBJECT  MEASURE FREQUENCY  TIME     Value Flag Codes\n",
      "4900      AUS  HEALTHEXP     TOT  USD_CAP         A  2017  5075.384        NaN\n",
      "4951      AUT  HEALTHEXP     TOT  USD_CAP         A  2017  5315.355        NaN\n",
      "5003      BEL  HEALTHEXP     TOT  USD_CAP         A  2017  5121.186        NaN\n",
      "5054      CAN  HEALTHEXP     TOT  USD_CAP         A  2017  5150.470        NaN\n",
      "5086      CZE  HEALTHEXP     TOT  USD_CAP         A  2017  2969.542          B\n"
     ]
    }
   ],
   "source": [
    "Filter_2017 = HealthExp_df10[\"TIME\"]== 2017\n",
    "HealthExp_df11 = HealthExp_df10[Filter_2017]\n",
    "print(HealthExp_df11.head())"
   ]
  },
  {
   "cell_type": "code",
   "execution_count": 476,
   "id": "cbe78e9a",
   "metadata": {},
   "outputs": [
    {
     "name": "stdout",
     "output_type": "stream",
     "text": [
      "     LOCATION     Value\n",
      "4900      AUS  5075.384\n",
      "4951      AUT  5315.355\n",
      "5003      BEL  5121.186\n",
      "5054      CAN  5150.470\n",
      "5086      CZE  2969.542\n"
     ]
    }
   ],
   "source": [
    "HealthExp_df12 = HealthExp_df11.drop(columns= [\"INDICATOR\", \"SUBJECT\", \"MEASURE\", \"FREQUENCY\", \"TIME\", \"Flag Codes\"])\n",
    "print(HealthExp_df12.head())"
   ]
  },
  {
   "cell_type": "code",
   "execution_count": 477,
   "id": "a1d2f389",
   "metadata": {},
   "outputs": [
    {
     "name": "stdout",
     "output_type": "stream",
     "text": [
      "     LOCATION      2017\n",
      "4900      AUS  5075.384\n",
      "4951      AUT  5315.355\n",
      "5003      BEL  5121.186\n",
      "5054      CAN  5150.470\n",
      "5086      CZE  2969.542\n"
     ]
    }
   ],
   "source": [
    "HealthExp_df12.rename(columns= {\"Value\": \"2017\"}, inplace= True)\n",
    "print(HealthExp_df12.head())"
   ]
  },
  {
   "cell_type": "code",
   "execution_count": 478,
   "id": "baf40c96",
   "metadata": {},
   "outputs": [
    {
     "name": "stdout",
     "output_type": "stream",
     "text": [
      "     LOCATION  INDICATOR SUBJECT  MEASURE FREQUENCY  TIME     Value Flag Codes\n",
      "4901      AUS  HEALTHEXP     TOT  USD_CAP         A  2018  5193.845        NaN\n",
      "4952      AUT  HEALTHEXP     TOT  USD_CAP         A  2018  5518.538        NaN\n",
      "5004      BEL  HEALTHEXP     TOT  USD_CAP         A  2018  5315.194        NaN\n",
      "5055      CAN  HEALTHEXP     TOT  USD_CAP         A  2018  5308.356        NaN\n",
      "5087      CZE  HEALTHEXP     TOT  USD_CAP         A  2018  3128.523        NaN\n"
     ]
    }
   ],
   "source": [
    "Filter_2018 = HealthExp_df10[\"TIME\"]== 2018\n",
    "HealthExp_df13 = HealthExp_df10[Filter_2018]\n",
    "print(HealthExp_df13.head())"
   ]
  },
  {
   "cell_type": "code",
   "execution_count": 479,
   "id": "9412cd04",
   "metadata": {},
   "outputs": [
    {
     "name": "stdout",
     "output_type": "stream",
     "text": [
      "     LOCATION     Value\n",
      "4901      AUS  5193.845\n",
      "4952      AUT  5518.538\n",
      "5004      BEL  5315.194\n",
      "5055      CAN  5308.356\n",
      "5087      CZE  3128.523\n"
     ]
    }
   ],
   "source": [
    "HealthExp_df14 = HealthExp_df13.drop(columns= [\"INDICATOR\", \"SUBJECT\", \"MEASURE\", \"FREQUENCY\", \"TIME\", \"Flag Codes\"])\n",
    "print(HealthExp_df14.head())"
   ]
  },
  {
   "cell_type": "code",
   "execution_count": 480,
   "id": "99704463",
   "metadata": {},
   "outputs": [
    {
     "name": "stdout",
     "output_type": "stream",
     "text": [
      "     LOCATION      2018\n",
      "4901      AUS  5193.845\n",
      "4952      AUT  5518.538\n",
      "5004      BEL  5315.194\n",
      "5055      CAN  5308.356\n",
      "5087      CZE  3128.523\n"
     ]
    }
   ],
   "source": [
    "HealthExp_df14.rename(columns= {\"Value\": \"2018\"}, inplace= True)\n",
    "print(HealthExp_df14.head())"
   ]
  },
  {
   "cell_type": "code",
   "execution_count": 481,
   "id": "3110a57c",
   "metadata": {},
   "outputs": [
    {
     "name": "stdout",
     "output_type": "stream",
     "text": [
      "     LOCATION  INDICATOR SUBJECT  MEASURE FREQUENCY  TIME     Value Flag Codes\n",
      "4902      AUS  HEALTHEXP     TOT  USD_CAP         A  2019  5130.234        NaN\n",
      "4953      AUT  HEALTHEXP     TOT  USD_CAP         A  2019  5624.014        NaN\n",
      "5005      BEL  HEALTHEXP     TOT  USD_CAP         A  2019  5352.871        NaN\n",
      "5056      CAN  HEALTHEXP     TOT  USD_CAP         A  2019  5189.721        NaN\n",
      "5088      CZE  HEALTHEXP     TOT  USD_CAP         A  2019  3272.224        NaN\n"
     ]
    }
   ],
   "source": [
    "Filter_2019 = HealthExp_df10[\"TIME\"]== 2019\n",
    "HealthExp_df15 = HealthExp_df10[Filter_2019]\n",
    "print(HealthExp_df15.head())"
   ]
  },
  {
   "cell_type": "code",
   "execution_count": 482,
   "id": "f2495bc2",
   "metadata": {},
   "outputs": [
    {
     "name": "stdout",
     "output_type": "stream",
     "text": [
      "     LOCATION     Value\n",
      "4902      AUS  5130.234\n",
      "4953      AUT  5624.014\n",
      "5005      BEL  5352.871\n",
      "5056      CAN  5189.721\n",
      "5088      CZE  3272.224\n"
     ]
    }
   ],
   "source": [
    "HealthExp_df16 = HealthExp_df15.drop(columns= [\"INDICATOR\", \"SUBJECT\", \"MEASURE\", \"FREQUENCY\", \"TIME\", \"Flag Codes\"])\n",
    "print(HealthExp_df16.head())"
   ]
  },
  {
   "cell_type": "code",
   "execution_count": 483,
   "id": "da7f6537",
   "metadata": {},
   "outputs": [
    {
     "name": "stdout",
     "output_type": "stream",
     "text": [
      "     LOCATION      2019\n",
      "4902      AUS  5130.234\n",
      "4953      AUT  5624.014\n",
      "5005      BEL  5352.871\n",
      "5056      CAN  5189.721\n",
      "5088      CZE  3272.224\n"
     ]
    }
   ],
   "source": [
    "HealthExp_df16.rename(columns= {\"Value\": \"2019\"}, inplace= True)\n",
    "print(HealthExp_df16.head())"
   ]
  },
  {
   "cell_type": "code",
   "execution_count": 484,
   "id": "c4f7c98b",
   "metadata": {},
   "outputs": [],
   "source": [
    "HealthExp_df17 = HealthExp_df12.merge(HealthExp_df14, on=\"LOCATION\", how=\"left\")"
   ]
  },
  {
   "cell_type": "code",
   "execution_count": 485,
   "id": "72688fcc",
   "metadata": {},
   "outputs": [
    {
     "name": "stdout",
     "output_type": "stream",
     "text": [
      "  LOCATION      2017      2018      2019\n",
      "0      AUS  5075.384  5193.845  5130.234\n",
      "1      AUT  5315.355  5518.538  5624.014\n",
      "2      BEL  5121.186  5315.194  5352.871\n",
      "3      CAN  5150.470  5308.356  5189.721\n",
      "4      CZE  2969.542  3128.523  3272.224\n"
     ]
    }
   ],
   "source": [
    "HealthExp_df18 = HealthExp_df17.merge(HealthExp_df16, on=\"LOCATION\", how=\"left\")\n",
    "print(HealthExp_df18.head())"
   ]
  },
  {
   "cell_type": "code",
   "execution_count": 486,
   "id": "d5752cb8",
   "metadata": {},
   "outputs": [],
   "source": [
    "HealthExp_df18[\"3 YEAR TOTAL\"]= HealthExp_df18[\"2017\"] + HealthExp_df18[\"2018\"] + HealthExp_df18[\"2019\"]"
   ]
  },
  {
   "cell_type": "code",
   "execution_count": 487,
   "id": "9d127558",
   "metadata": {},
   "outputs": [
    {
     "name": "stdout",
     "output_type": "stream",
     "text": [
      "  LOCATION      2017      2018      2019  3 YEAR TOTAL  3 YEAR AVERAGE\n",
      "0      AUS  5075.384  5193.845  5130.234     15399.463     5133.154333\n",
      "1      AUT  5315.355  5518.538  5624.014     16457.907     5485.969000\n",
      "2      BEL  5121.186  5315.194  5352.871     15789.251     5263.083667\n",
      "3      CAN  5150.470  5308.356  5189.721     15648.547     5216.182333\n",
      "4      CZE  2969.542  3128.523  3272.224      9370.289     3123.429667\n"
     ]
    }
   ],
   "source": [
    "HealthExp_df18[\"3 YEAR AVERAGE\"]= HealthExp_df18[\"3 YEAR TOTAL\"] / 3\n",
    "print(HealthExp_df18.head())"
   ]
  },
  {
   "cell_type": "code",
   "execution_count": 488,
   "id": "dcf78618",
   "metadata": {},
   "outputs": [
    {
     "name": "stdout",
     "output_type": "stream",
     "text": [
      "<class 'pandas.core.frame.DataFrame'>\n",
      "Int64Index: 46 entries, 0 to 45\n",
      "Data columns (total 6 columns):\n",
      " #   Column          Non-Null Count  Dtype  \n",
      "---  ------          --------------  -----  \n",
      " 0   LOCATION        46 non-null     object \n",
      " 1   2017            46 non-null     float64\n",
      " 2   2018            46 non-null     float64\n",
      " 3   2019            46 non-null     float64\n",
      " 4   3 YEAR TOTAL    46 non-null     float64\n",
      " 5   3 YEAR AVERAGE  46 non-null     float64\n",
      "dtypes: float64(5), object(1)\n",
      "memory usage: 2.5+ KB\n",
      "None\n"
     ]
    }
   ],
   "source": [
    "print(HealthExp_df18.info())"
   ]
  },
  {
   "cell_type": "code",
   "execution_count": 489,
   "id": "fe638c47",
   "metadata": {},
   "outputs": [],
   "source": [
    "HealthExp_df18[\"3 YEAR DESCRIPT\"] = HealthExp_df18[\"3 YEAR AVERAGE\"].apply(str)"
   ]
  },
  {
   "cell_type": "code",
   "execution_count": 490,
   "id": "303ec9a7",
   "metadata": {},
   "outputs": [
    {
     "name": "stdout",
     "output_type": "stream",
     "text": [
      "0    AUS has a 3 year average health expend of 5133...\n",
      "1    AUT has a 3 year average health expend of 5485...\n",
      "2    BEL has a 3 year average health expend of 5263...\n",
      "3    CAN has a 3 year average health expend of 5216...\n",
      "4    CZE has a 3 year average health expend of 3123...\n",
      "Name: MESSAGE, dtype: object\n"
     ]
    }
   ],
   "source": [
    "HealthExp_df18[\"MESSAGE\"] = HealthExp_df18[\"LOCATION\"] + \" has a 3 year average health expend of \" + HealthExp_df18[\"3 YEAR DESCRIPT\"] + \" USD per capita\"\n",
    "print(HealthExp_df18[\"MESSAGE\"].head())"
   ]
  },
  {
   "cell_type": "code",
   "execution_count": 491,
   "id": "98cc0409",
   "metadata": {},
   "outputs": [
    {
     "name": "stdout",
     "output_type": "stream",
     "text": [
      "  LOCATION      2017      2018      2019  3 YEAR TOTAL  3 YEAR AVERAGE  \\\n",
      "0      AUT  5315.355  5518.538  5624.014     16457.907     5485.969000   \n",
      "1      BEL  5121.186  5315.194  5352.871     15789.251     5263.083667   \n",
      "2      CZE  2969.542  3128.523  3272.224      9370.289     3123.429667   \n",
      "3      DNK  5112.959  5306.704  5359.776     15779.439     5259.813000   \n",
      "4      FIN  4215.309  4330.443  4383.634     12929.386     4309.795333   \n",
      "\n",
      "      3 YEAR DESCRIPT                                            MESSAGE  \\\n",
      "0            5485.969  AUT has a 3 year average health expend of 5485...   \n",
      "1   5263.083666666666  BEL has a 3 year average health expend of 5263...   \n",
      "2   3123.429666666667  CZE has a 3 year average health expend of 3123...   \n",
      "3            5259.813  DNK has a 3 year average health expend of 5259...   \n",
      "4  4309.7953333333335  FIN has a 3 year average health expend of 4309...   \n",
      "\n",
      "          Country        EURO_Status  \n",
      "0         Austria          Uses EURO  \n",
      "1         Belgium          Uses EURO  \n",
      "2  Czech Republic  Does not use EURO  \n",
      "3         Denmark  Does not use EURO  \n",
      "4         Finland          Uses EURO  \n"
     ]
    }
   ],
   "source": [
    "HealthExp_df19 = HealthExp_df18.merge(EU27_df, on=\"LOCATION\", how=\"right\")\n",
    "print(HealthExp_df19.head())"
   ]
  },
  {
   "cell_type": "code",
   "execution_count": 492,
   "id": "a79a9143",
   "metadata": {},
   "outputs": [
    {
     "data": {
      "text/plain": [
       "0            Austria\n",
       "1            Belgium\n",
       "2     Czech Republic\n",
       "3            Denmark\n",
       "4            Finland\n",
       "5             France\n",
       "6            Germany\n",
       "7             Greece\n",
       "8            Hungary\n",
       "9            Ireland\n",
       "10             Italy\n",
       "11        Luxembourg\n",
       "12       Netherlands\n",
       "13            Poland\n",
       "14          Portugal\n",
       "15          Slovakia\n",
       "16             Spain\n",
       "17            Sweden\n",
       "18           Estonia\n",
       "19          Slovenia\n",
       "20            Latvia\n",
       "21         Lithuania\n",
       "22          Bulgaria\n",
       "23           Croatia\n",
       "24            Cyprus\n",
       "25             Malta\n",
       "26           Romania\n",
       "Name: Country, dtype: object"
      ]
     },
     "execution_count": 492,
     "metadata": {},
     "output_type": "execute_result"
    }
   ],
   "source": [
    "HealthExp_df19[\"Country\"]"
   ]
  },
  {
   "cell_type": "code",
   "execution_count": 493,
   "id": "47a41cca",
   "metadata": {},
   "outputs": [
    {
     "name": "stdout",
     "output_type": "stream",
     "text": [
      "  LOCATION      2017      2018      2019  3 YEAR TOTAL  3 YEAR AVERAGE  \\\n",
      "0      AUT  5315.355  5518.538  5624.014     16457.907     5485.969000   \n",
      "1      BEL  5121.186  5315.194  5352.871     15789.251     5263.083667   \n",
      "2      CZE  2969.542  3128.523  3272.224      9370.289     3123.429667   \n",
      "3      DNK  5112.959  5306.704  5359.776     15779.439     5259.813000   \n",
      "4      FIN  4215.309  4330.443  4383.634     12929.386     4309.795333   \n",
      "\n",
      "          Country        EURO_Status  \n",
      "0         Austria          Uses EURO  \n",
      "1         Belgium          Uses EURO  \n",
      "2  Czech Republic  Does not use EURO  \n",
      "3         Denmark  Does not use EURO  \n",
      "4         Finland          Uses EURO  \n"
     ]
    }
   ],
   "source": [
    "HealthExp_df20 = HealthExp_df19.drop(columns= [\"3 YEAR DESCRIPT\", \"MESSAGE\"])\n",
    "print(HealthExp_df20.head())"
   ]
  },
  {
   "cell_type": "code",
   "execution_count": 494,
   "id": "1845563e",
   "metadata": {},
   "outputs": [
    {
     "name": "stdout",
     "output_type": "stream",
     "text": [
      "          Country LOCATION        EURO_Status      2017      2018      2019  \\\n",
      "0         Austria      AUT          Uses EURO  5315.355  5518.538  5624.014   \n",
      "1         Belgium      BEL          Uses EURO  5121.186  5315.194  5352.871   \n",
      "2  Czech Republic      CZE  Does not use EURO  2969.542  3128.523  3272.224   \n",
      "3         Denmark      DNK  Does not use EURO  5112.959  5306.704  5359.776   \n",
      "4         Finland      FIN          Uses EURO  4215.309  4330.443  4383.634   \n",
      "\n",
      "   3 YEAR TOTAL  3 YEAR AVERAGE  \n",
      "0     16457.907     5485.969000  \n",
      "1     15789.251     5263.083667  \n",
      "2      9370.289     3123.429667  \n",
      "3     15779.439     5259.813000  \n",
      "4     12929.386     4309.795333  \n"
     ]
    }
   ],
   "source": [
    "HealthExp_df21 = HealthExp_df20[[\"Country\", \"LOCATION\", \"EURO_Status\", \"2017\", \"2018\", \"2019\", \"3 YEAR TOTAL\", \"3 YEAR AVERAGE\"]]\n",
    "print(HealthExp_df21.head())"
   ]
  },
  {
   "cell_type": "markdown",
   "id": "7c249d20",
   "metadata": {},
   "source": [
    "3-c) EU Population Data: Validating data by removing duplicates, merging & replacing missing values"
   ]
  },
  {
   "cell_type": "code",
   "execution_count": 495,
   "id": "186dc638",
   "metadata": {},
   "outputs": [],
   "source": [
    "EUPop_df_GROUP = EUPop_df.groupby(\"Country\")"
   ]
  },
  {
   "cell_type": "code",
   "execution_count": 496,
   "id": "a8d3ee00",
   "metadata": {},
   "outputs": [
    {
     "data": {
      "text/plain": [
       "Country\n",
       "Bulgaria          1\n",
       "Croatia           1\n",
       "Cyprus            1\n",
       "Czech Republic    1\n",
       "Denmark           3\n",
       "Estonia           1\n",
       "Finland           1\n",
       "France            1\n",
       "Greece            1\n",
       "Hungary           1\n",
       "Ireland           1\n",
       "Italy             1\n",
       "Lithuania         1\n",
       "Luxembourg        1\n",
       "Malta             1\n",
       "Netherlands       1\n",
       "Poland            1\n",
       "Portugal          1\n",
       "Romania           1\n",
       "Slovakia          3\n",
       "Spain             4\n",
       "Sweden            1\n",
       "Name: Country, dtype: int64"
      ]
     },
     "execution_count": 496,
     "metadata": {},
     "output_type": "execute_result"
    }
   ],
   "source": [
    "EUPop_df_GROUP[\"Country\"].count()"
   ]
  },
  {
   "cell_type": "code",
   "execution_count": 497,
   "id": "9a3ae7d8",
   "metadata": {},
   "outputs": [],
   "source": [
    "EUPop_df2 = EUPop_df.drop_duplicates(subset=\"Country\")"
   ]
  },
  {
   "cell_type": "code",
   "execution_count": 498,
   "id": "03a5de94",
   "metadata": {},
   "outputs": [
    {
     "data": {
      "text/plain": [
       "22"
      ]
     },
     "execution_count": 498,
     "metadata": {},
     "output_type": "execute_result"
    }
   ],
   "source": [
    "EUPop_df2[\"Country\"].count()"
   ]
  },
  {
   "cell_type": "code",
   "execution_count": 499,
   "id": "548df2d2",
   "metadata": {},
   "outputs": [
    {
     "name": "stdout",
     "output_type": "stream",
     "text": [
      "0           Bulgaria\n",
      "1     Czech Republic\n",
      "2            Denmark\n",
      "3            Estonia\n",
      "4            Ireland\n",
      "5             Greece\n",
      "6              Spain\n",
      "7             France\n",
      "8            Croatia\n",
      "9              Italy\n",
      "10            Cyprus\n",
      "11         Lithuania\n",
      "12        Luxembourg\n",
      "13           Hungary\n",
      "14             Malta\n",
      "15       Netherlands\n",
      "16            Poland\n",
      "17          Portugal\n",
      "18           Romania\n",
      "19          Slovakia\n",
      "20           Finland\n",
      "21            Sweden\n",
      "Name: Country, dtype: object\n"
     ]
    }
   ],
   "source": [
    "print(EUPop_df2[\"Country\"])"
   ]
  },
  {
   "cell_type": "code",
   "execution_count": 500,
   "id": "cd680095",
   "metadata": {},
   "outputs": [
    {
     "name": "stdout",
     "output_type": "stream",
     "text": [
      "          Country        2022 LOCATION        EURO_Status\n",
      "0         Austria         NaN      AUT          Uses EURO\n",
      "1         Belgium         NaN      BEL          Uses EURO\n",
      "2  Czech Republic  10516707.0      CZE  Does not use EURO\n",
      "3         Denmark   5873420.0      DNK  Does not use EURO\n",
      "4         Finland   5548241.0      FIN          Uses EURO\n"
     ]
    }
   ],
   "source": [
    "EUPop_df3 = EUPop_df2.merge(EU27_df, on=\"Country\", how=\"right\")\n",
    "print(EUPop_df3.head())"
   ]
  },
  {
   "cell_type": "code",
   "execution_count": 501,
   "id": "0003138e",
   "metadata": {},
   "outputs": [
    {
     "data": {
      "text/plain": [
       "Country        False\n",
       "2022            True\n",
       "LOCATION       False\n",
       "EURO_Status    False\n",
       "dtype: bool"
      ]
     },
     "execution_count": 501,
     "metadata": {},
     "output_type": "execute_result"
    }
   ],
   "source": [
    "EUPop_df3.isna().any()"
   ]
  },
  {
   "cell_type": "code",
   "execution_count": 502,
   "id": "b62cc869",
   "metadata": {},
   "outputs": [
    {
     "data": {
      "text/plain": [
       "27"
      ]
     },
     "execution_count": 502,
     "metadata": {},
     "output_type": "execute_result"
    }
   ],
   "source": [
    "EUPop_df3[\"Country\"].count()"
   ]
  },
  {
   "cell_type": "code",
   "execution_count": 503,
   "id": "4fad63e9",
   "metadata": {},
   "outputs": [
    {
     "data": {
      "text/plain": [
       "22"
      ]
     },
     "execution_count": 503,
     "metadata": {},
     "output_type": "execute_result"
    }
   ],
   "source": [
    "EUPop_df3[2022].count()"
   ]
  },
  {
   "cell_type": "code",
   "execution_count": 504,
   "id": "4441f538",
   "metadata": {},
   "outputs": [
    {
     "name": "stdout",
     "output_type": "stream",
     "text": [
      "     Country  2022 LOCATION EURO_Status\n",
      "0    Austria   0.0      AUT   Uses EURO\n",
      "1    Belgium   0.0      BEL   Uses EURO\n",
      "6    Germany   0.0      DEU   Uses EURO\n",
      "19  Slovenia   0.0      SVN   Uses EURO\n",
      "20    Latvia   0.0      LVA   Uses EURO\n"
     ]
    }
   ],
   "source": [
    "EUPop_df3[2022] = EUPop_df3[2022].fillna(0)\n",
    "print(EUPop_df3[EUPop_df3[2022]==0])"
   ]
  },
  {
   "cell_type": "code",
   "execution_count": 505,
   "id": "0e06b047",
   "metadata": {},
   "outputs": [
    {
     "data": {
      "text/html": [
       "<div>\n",
       "<style scoped>\n",
       "    .dataframe tbody tr th:only-of-type {\n",
       "        vertical-align: middle;\n",
       "    }\n",
       "\n",
       "    .dataframe tbody tr th {\n",
       "        vertical-align: top;\n",
       "    }\n",
       "\n",
       "    .dataframe thead th {\n",
       "        text-align: right;\n",
       "    }\n",
       "</style>\n",
       "<table border=\"1\" class=\"dataframe\">\n",
       "  <thead>\n",
       "    <tr style=\"text-align: right;\">\n",
       "      <th></th>\n",
       "      <th>Country</th>\n",
       "      <th>2022</th>\n",
       "      <th>LOCATION</th>\n",
       "      <th>EURO_Status</th>\n",
       "    </tr>\n",
       "  </thead>\n",
       "  <tbody>\n",
       "    <tr>\n",
       "      <th>5</th>\n",
       "      <td>France</td>\n",
       "      <td>67842582.0</td>\n",
       "      <td>FRA</td>\n",
       "      <td>Uses EURO</td>\n",
       "    </tr>\n",
       "    <tr>\n",
       "      <th>10</th>\n",
       "      <td>Italy</td>\n",
       "      <td>58983122.0</td>\n",
       "      <td>ITA</td>\n",
       "      <td>Uses EURO</td>\n",
       "    </tr>\n",
       "    <tr>\n",
       "      <th>16</th>\n",
       "      <td>Spain</td>\n",
       "      <td>47432805.0</td>\n",
       "      <td>ESP</td>\n",
       "      <td>Uses EURO</td>\n",
       "    </tr>\n",
       "    <tr>\n",
       "      <th>13</th>\n",
       "      <td>Poland</td>\n",
       "      <td>37654247.0</td>\n",
       "      <td>POL</td>\n",
       "      <td>Does not use EURO</td>\n",
       "    </tr>\n",
       "    <tr>\n",
       "      <th>26</th>\n",
       "      <td>Romania</td>\n",
       "      <td>19038098.0</td>\n",
       "      <td>ROU</td>\n",
       "      <td>Does not use EURO</td>\n",
       "    </tr>\n",
       "    <tr>\n",
       "      <th>12</th>\n",
       "      <td>Netherlands</td>\n",
       "      <td>17590672.0</td>\n",
       "      <td>NLD</td>\n",
       "      <td>Uses EURO</td>\n",
       "    </tr>\n",
       "    <tr>\n",
       "      <th>7</th>\n",
       "      <td>Greece</td>\n",
       "      <td>10603810.0</td>\n",
       "      <td>GRC</td>\n",
       "      <td>Uses EURO</td>\n",
       "    </tr>\n",
       "    <tr>\n",
       "      <th>2</th>\n",
       "      <td>Czech Republic</td>\n",
       "      <td>10516707.0</td>\n",
       "      <td>CZE</td>\n",
       "      <td>Does not use EURO</td>\n",
       "    </tr>\n",
       "    <tr>\n",
       "      <th>17</th>\n",
       "      <td>Sweden</td>\n",
       "      <td>10452326.0</td>\n",
       "      <td>SWE</td>\n",
       "      <td>Does not use EURO</td>\n",
       "    </tr>\n",
       "    <tr>\n",
       "      <th>14</th>\n",
       "      <td>Portugal</td>\n",
       "      <td>10352042.0</td>\n",
       "      <td>PRT</td>\n",
       "      <td>Uses EURO</td>\n",
       "    </tr>\n",
       "    <tr>\n",
       "      <th>8</th>\n",
       "      <td>Hungary</td>\n",
       "      <td>9689010.0</td>\n",
       "      <td>HUN</td>\n",
       "      <td>Does not use EURO</td>\n",
       "    </tr>\n",
       "    <tr>\n",
       "      <th>22</th>\n",
       "      <td>Bulgaria</td>\n",
       "      <td>6838937.0</td>\n",
       "      <td>BGR</td>\n",
       "      <td>Does not use EURO</td>\n",
       "    </tr>\n",
       "    <tr>\n",
       "      <th>3</th>\n",
       "      <td>Denmark</td>\n",
       "      <td>5873420.0</td>\n",
       "      <td>DNK</td>\n",
       "      <td>Does not use EURO</td>\n",
       "    </tr>\n",
       "    <tr>\n",
       "      <th>4</th>\n",
       "      <td>Finland</td>\n",
       "      <td>5548241.0</td>\n",
       "      <td>FIN</td>\n",
       "      <td>Uses EURO</td>\n",
       "    </tr>\n",
       "    <tr>\n",
       "      <th>15</th>\n",
       "      <td>Slovakia</td>\n",
       "      <td>5434712.0</td>\n",
       "      <td>SVK</td>\n",
       "      <td>Uses EURO</td>\n",
       "    </tr>\n",
       "    <tr>\n",
       "      <th>9</th>\n",
       "      <td>Ireland</td>\n",
       "      <td>5060005.0</td>\n",
       "      <td>IRL</td>\n",
       "      <td>Uses EURO</td>\n",
       "    </tr>\n",
       "    <tr>\n",
       "      <th>23</th>\n",
       "      <td>Croatia</td>\n",
       "      <td>3879074.0</td>\n",
       "      <td>HRV</td>\n",
       "      <td>Uses EURO</td>\n",
       "    </tr>\n",
       "    <tr>\n",
       "      <th>21</th>\n",
       "      <td>Lithuania</td>\n",
       "      <td>2805998.0</td>\n",
       "      <td>LTU</td>\n",
       "      <td>Uses EURO</td>\n",
       "    </tr>\n",
       "    <tr>\n",
       "      <th>18</th>\n",
       "      <td>Estonia</td>\n",
       "      <td>1331796.0</td>\n",
       "      <td>EST</td>\n",
       "      <td>Uses EURO</td>\n",
       "    </tr>\n",
       "    <tr>\n",
       "      <th>24</th>\n",
       "      <td>Cyprus</td>\n",
       "      <td>904705.0</td>\n",
       "      <td>CYP</td>\n",
       "      <td>Uses EURO</td>\n",
       "    </tr>\n",
       "    <tr>\n",
       "      <th>11</th>\n",
       "      <td>Luxembourg</td>\n",
       "      <td>645397.0</td>\n",
       "      <td>LUX</td>\n",
       "      <td>Uses EURO</td>\n",
       "    </tr>\n",
       "    <tr>\n",
       "      <th>25</th>\n",
       "      <td>Malta</td>\n",
       "      <td>520971.0</td>\n",
       "      <td>MLT</td>\n",
       "      <td>Uses EURO</td>\n",
       "    </tr>\n",
       "    <tr>\n",
       "      <th>1</th>\n",
       "      <td>Belgium</td>\n",
       "      <td>0.0</td>\n",
       "      <td>BEL</td>\n",
       "      <td>Uses EURO</td>\n",
       "    </tr>\n",
       "    <tr>\n",
       "      <th>6</th>\n",
       "      <td>Germany</td>\n",
       "      <td>0.0</td>\n",
       "      <td>DEU</td>\n",
       "      <td>Uses EURO</td>\n",
       "    </tr>\n",
       "    <tr>\n",
       "      <th>19</th>\n",
       "      <td>Slovenia</td>\n",
       "      <td>0.0</td>\n",
       "      <td>SVN</td>\n",
       "      <td>Uses EURO</td>\n",
       "    </tr>\n",
       "    <tr>\n",
       "      <th>20</th>\n",
       "      <td>Latvia</td>\n",
       "      <td>0.0</td>\n",
       "      <td>LVA</td>\n",
       "      <td>Uses EURO</td>\n",
       "    </tr>\n",
       "    <tr>\n",
       "      <th>0</th>\n",
       "      <td>Austria</td>\n",
       "      <td>0.0</td>\n",
       "      <td>AUT</td>\n",
       "      <td>Uses EURO</td>\n",
       "    </tr>\n",
       "  </tbody>\n",
       "</table>\n",
       "</div>"
      ],
      "text/plain": [
       "           Country        2022 LOCATION        EURO_Status\n",
       "5           France  67842582.0      FRA          Uses EURO\n",
       "10           Italy  58983122.0      ITA          Uses EURO\n",
       "16           Spain  47432805.0      ESP          Uses EURO\n",
       "13          Poland  37654247.0      POL  Does not use EURO\n",
       "26         Romania  19038098.0      ROU  Does not use EURO\n",
       "12     Netherlands  17590672.0      NLD          Uses EURO\n",
       "7           Greece  10603810.0      GRC          Uses EURO\n",
       "2   Czech Republic  10516707.0      CZE  Does not use EURO\n",
       "17          Sweden  10452326.0      SWE  Does not use EURO\n",
       "14        Portugal  10352042.0      PRT          Uses EURO\n",
       "8          Hungary   9689010.0      HUN  Does not use EURO\n",
       "22        Bulgaria   6838937.0      BGR  Does not use EURO\n",
       "3          Denmark   5873420.0      DNK  Does not use EURO\n",
       "4          Finland   5548241.0      FIN          Uses EURO\n",
       "15        Slovakia   5434712.0      SVK          Uses EURO\n",
       "9          Ireland   5060005.0      IRL          Uses EURO\n",
       "23         Croatia   3879074.0      HRV          Uses EURO\n",
       "21       Lithuania   2805998.0      LTU          Uses EURO\n",
       "18         Estonia   1331796.0      EST          Uses EURO\n",
       "24          Cyprus    904705.0      CYP          Uses EURO\n",
       "11      Luxembourg    645397.0      LUX          Uses EURO\n",
       "25           Malta    520971.0      MLT          Uses EURO\n",
       "1          Belgium         0.0      BEL          Uses EURO\n",
       "6          Germany         0.0      DEU          Uses EURO\n",
       "19        Slovenia         0.0      SVN          Uses EURO\n",
       "20          Latvia         0.0      LVA          Uses EURO\n",
       "0          Austria         0.0      AUT          Uses EURO"
      ]
     },
     "execution_count": 505,
     "metadata": {},
     "output_type": "execute_result"
    }
   ],
   "source": [
    "EUPop_df3.sort_values(2022, ascending = False)"
   ]
  },
  {
   "cell_type": "code",
   "execution_count": 506,
   "id": "00a4210b",
   "metadata": {},
   "outputs": [
    {
     "name": "stdout",
     "output_type": "stream",
     "text": [
      "                      2022 LOCATION        EURO_Status\n",
      "Country                                               \n",
      "Austria                0.0      AUT          Uses EURO\n",
      "Belgium                0.0      BEL          Uses EURO\n",
      "Czech Republic  10516707.0      CZE  Does not use EURO\n",
      "Denmark          5873420.0      DNK  Does not use EURO\n",
      "Finland          5548241.0      FIN          Uses EURO\n",
      "France          67842582.0      FRA          Uses EURO\n",
      "Germany                0.0      DEU          Uses EURO\n",
      "Greece          10603810.0      GRC          Uses EURO\n",
      "Hungary          9689010.0      HUN  Does not use EURO\n",
      "Ireland          5060005.0      IRL          Uses EURO\n",
      "Italy           58983122.0      ITA          Uses EURO\n",
      "Luxembourg        645397.0      LUX          Uses EURO\n",
      "Netherlands     17590672.0      NLD          Uses EURO\n",
      "Poland          37654247.0      POL  Does not use EURO\n",
      "Portugal        10352042.0      PRT          Uses EURO\n",
      "Slovakia         5434712.0      SVK          Uses EURO\n",
      "Spain           47432805.0      ESP          Uses EURO\n",
      "Sweden          10452326.0      SWE  Does not use EURO\n",
      "Estonia          1331796.0      EST          Uses EURO\n",
      "Slovenia               0.0      SVN          Uses EURO\n",
      "Latvia                 0.0      LVA          Uses EURO\n",
      "Lithuania        2805998.0      LTU          Uses EURO\n",
      "Bulgaria         6838937.0      BGR  Does not use EURO\n",
      "Croatia          3879074.0      HRV          Uses EURO\n",
      "Cyprus            904705.0      CYP          Uses EURO\n",
      "Malta             520971.0      MLT          Uses EURO\n",
      "Romania         19038098.0      ROU  Does not use EURO\n"
     ]
    }
   ],
   "source": [
    "EUPop_df3_Country_Indexed = EUPop_df3.set_index(\"Country\")\n",
    "print(EUPop_df3_Country_Indexed)"
   ]
  },
  {
   "cell_type": "code",
   "execution_count": 507,
   "id": "b677a540",
   "metadata": {},
   "outputs": [
    {
     "name": "stdout",
     "output_type": "stream",
     "text": [
      "                                        2022 LOCATION\n",
      "EURO_Status       Country                            \n",
      "Uses EURO         Austria                0.0      AUT\n",
      "                  Belgium                0.0      BEL\n",
      "Does not use EURO Czech Republic  10516707.0      CZE\n",
      "                  Denmark          5873420.0      DNK\n",
      "Uses EURO         Finland          5548241.0      FIN\n",
      "                  France          67842582.0      FRA\n",
      "                  Germany                0.0      DEU\n",
      "                  Greece          10603810.0      GRC\n",
      "Does not use EURO Hungary          9689010.0      HUN\n",
      "Uses EURO         Ireland          5060005.0      IRL\n",
      "                  Italy           58983122.0      ITA\n",
      "                  Luxembourg        645397.0      LUX\n",
      "                  Netherlands     17590672.0      NLD\n",
      "Does not use EURO Poland          37654247.0      POL\n",
      "Uses EURO         Portugal        10352042.0      PRT\n",
      "                  Slovakia         5434712.0      SVK\n",
      "                  Spain           47432805.0      ESP\n",
      "Does not use EURO Sweden          10452326.0      SWE\n",
      "Uses EURO         Estonia          1331796.0      EST\n",
      "                  Slovenia               0.0      SVN\n",
      "                  Latvia                 0.0      LVA\n",
      "                  Lithuania        2805998.0      LTU\n",
      "Does not use EURO Bulgaria         6838937.0      BGR\n",
      "Uses EURO         Croatia          3879074.0      HRV\n",
      "                  Cyprus            904705.0      CYP\n",
      "                  Malta             520971.0      MLT\n",
      "Does not use EURO Romania         19038098.0      ROU\n"
     ]
    }
   ],
   "source": [
    "EUPop_df3_Country_Indexed2 = EUPop_df3.set_index([\"EURO_Status\", \"Country\"])\n",
    "print(EUPop_df3_Country_Indexed2)"
   ]
  },
  {
   "cell_type": "code",
   "execution_count": 508,
   "id": "a720791f",
   "metadata": {},
   "outputs": [
    {
     "name": "stdout",
     "output_type": "stream",
     "text": [
      "                                        2022 LOCATION\n",
      "EURO_Status       Country                            \n",
      "Uses EURO         Austria                0.0      AUT\n",
      "                  Belgium                0.0      BEL\n",
      "                  Croatia          3879074.0      HRV\n",
      "                  Cyprus            904705.0      CYP\n",
      "                  Estonia          1331796.0      EST\n",
      "                  Finland          5548241.0      FIN\n",
      "                  France          67842582.0      FRA\n",
      "                  Germany                0.0      DEU\n",
      "                  Greece          10603810.0      GRC\n",
      "                  Ireland          5060005.0      IRL\n",
      "                  Italy           58983122.0      ITA\n",
      "                  Latvia                 0.0      LVA\n",
      "                  Lithuania        2805998.0      LTU\n",
      "                  Luxembourg        645397.0      LUX\n",
      "                  Malta             520971.0      MLT\n",
      "                  Netherlands     17590672.0      NLD\n",
      "                  Portugal        10352042.0      PRT\n",
      "                  Slovakia         5434712.0      SVK\n",
      "                  Slovenia               0.0      SVN\n",
      "                  Spain           47432805.0      ESP\n",
      "Does not use EURO Bulgaria         6838937.0      BGR\n",
      "                  Czech Republic  10516707.0      CZE\n",
      "                  Denmark          5873420.0      DNK\n",
      "                  Hungary          9689010.0      HUN\n",
      "                  Poland          37654247.0      POL\n",
      "                  Romania         19038098.0      ROU\n",
      "                  Sweden          10452326.0      SWE\n"
     ]
    }
   ],
   "source": [
    "EUPop_df3_Country_Indexed3 = EUPop_df3_Country_Indexed2.sort_index(level= [\"EURO_Status\", \"Country\"], ascending= [False, True])\n",
    "print(EUPop_df3_Country_Indexed3)"
   ]
  },
  {
   "cell_type": "markdown",
   "id": "1d5bb4f8",
   "metadata": {},
   "source": [
    "3-d) Covid-19 Data:Creating a DataFrame to merge with other data sources"
   ]
  },
  {
   "cell_type": "code",
   "execution_count": 509,
   "id": "3a6a896e",
   "metadata": {},
   "outputs": [
    {
     "name": "stdout",
     "output_type": "stream",
     "text": [
      "                                     ID      Country CountryCode         Slug  \\\n",
      "0  33c79bd2-570a-49be-bb1f-9d91272561ed  Afghanistan          AF  afghanistan   \n",
      "1  69236220-9c64-4847-a0fc-24d7ae96751b      Albania          AL      albania   \n",
      "2  ca282daf-5508-425d-982d-aa82a0832f74      Algeria          DZ      algeria   \n",
      "3  d5ce08ca-3b61-4e1c-b339-fa4f09e9998b      Andorra          AD      andorra   \n",
      "4  31a192d9-72d0-4fc6-a933-5435043d8470       Angola          AO       angola   \n",
      "\n",
      "   NewConfirmed  TotalConfirmed  NewDeaths  TotalDeaths  NewRecovered  \\\n",
      "0             0          208084          0         7864             0   \n",
      "1            13          334097          0         3596             0   \n",
      "2            12          271328          0         6881             0   \n",
      "3             0           47820          0          165             0   \n",
      "4             0          105095          0         1930             0   \n",
      "\n",
      "   TotalRecovered                      Date Premium  \n",
      "0               0  2023-01-23T03:45:19.923Z      {}  \n",
      "1               0  2023-01-23T03:45:19.923Z      {}  \n",
      "2               0  2023-01-23T03:45:19.923Z      {}  \n",
      "3               0  2023-01-23T03:45:19.923Z      {}  \n",
      "4               0  2023-01-23T03:45:19.923Z      {}  \n"
     ]
    }
   ],
   "source": [
    "print(Covid19_df.head())"
   ]
  },
  {
   "cell_type": "code",
   "execution_count": 510,
   "id": "8eff0386",
   "metadata": {},
   "outputs": [
    {
     "name": "stdout",
     "output_type": "stream",
     "text": [
      "       Country CountryCode  TotalConfirmed  TotalDeaths  TotalRecovered\n",
      "0  Afghanistan          AF          208084         7864               0\n",
      "1      Albania          AL          334097         3596               0\n",
      "2      Algeria          DZ          271328         6881               0\n",
      "3      Andorra          AD           47820          165               0\n",
      "4       Angola          AO          105095         1930               0\n"
     ]
    }
   ],
   "source": [
    "Covid19_df5 = Covid19_df.drop(columns= [\"ID\", \"Slug\", \"NewConfirmed\", \"NewDeaths\", \"NewRecovered\", \"Date\", \"Premium\"])\n",
    "print(Covid19_df5.head())"
   ]
  },
  {
   "cell_type": "code",
   "execution_count": 511,
   "id": "29705954",
   "metadata": {},
   "outputs": [
    {
     "name": "stdout",
     "output_type": "stream",
     "text": [
      "                              Country  TotalConfirmed  TotalDeaths  \\\n",
      "CountryCode                                                          \n",
      "US           United States of America       102003090      1104118   \n",
      "IN                              India        44683005       530730   \n",
      "FR                             France        39681509       164793   \n",
      "DE                            Germany        37668384       164703   \n",
      "BR                             Brazil        36717501       696254   \n",
      "\n",
      "             TotalRecovered  \n",
      "CountryCode                  \n",
      "US                        0  \n",
      "IN                        0  \n",
      "FR                        0  \n",
      "DE                        0  \n",
      "BR                        0  \n"
     ]
    }
   ],
   "source": [
    "Covid19_df6 = Covid19_df5.set_index(\"CountryCode\")\n",
    "Covid19_df7 = Covid19_df6.sort_values([\"TotalConfirmed\", \"TotalDeaths\", \"TotalRecovered\"], ascending=[False, False, False])\n",
    "print(Covid19_df7.head())"
   ]
  },
  {
   "cell_type": "code",
   "execution_count": 512,
   "id": "76c7ad49",
   "metadata": {},
   "outputs": [
    {
     "data": {
      "text/plain": [
       "CountryCode\n",
       "US    False\n",
       "IN    False\n",
       "FR    False\n",
       "DE    False\n",
       "BR    False\n",
       "      ...  \n",
       "NR    False\n",
       "TV    False\n",
       "VA    False\n",
       "AQ    False\n",
       "KP    False\n",
       "Name: TotalRecovered, Length: 197, dtype: bool"
      ]
     },
     "execution_count": 512,
     "metadata": {},
     "output_type": "execute_result"
    }
   ],
   "source": [
    "Covid19_df7[\"TotalRecovered\"] > 0"
   ]
  },
  {
   "cell_type": "code",
   "execution_count": 513,
   "id": "0f961fcd",
   "metadata": {},
   "outputs": [
    {
     "data": {
      "text/plain": [
       "0"
      ]
     },
     "execution_count": 513,
     "metadata": {},
     "output_type": "execute_result"
    }
   ],
   "source": [
    "Covid19_df7[\"TotalRecovered\"].sum()"
   ]
  },
  {
   "cell_type": "code",
   "execution_count": 514,
   "id": "95e70e08",
   "metadata": {},
   "outputs": [
    {
     "name": "stdout",
     "output_type": "stream",
     "text": [
      "                                     ID      Country CountryCode         Slug  \\\n",
      "0  33c79bd2-570a-49be-bb1f-9d91272561ed  Afghanistan          AF  afghanistan   \n",
      "1  69236220-9c64-4847-a0fc-24d7ae96751b      Albania          AL      albania   \n",
      "2  ca282daf-5508-425d-982d-aa82a0832f74      Algeria          DZ      algeria   \n",
      "3  d5ce08ca-3b61-4e1c-b339-fa4f09e9998b      Andorra          AD      andorra   \n",
      "4  31a192d9-72d0-4fc6-a933-5435043d8470       Angola          AO       angola   \n",
      "\n",
      "   NewConfirmed  TotalConfirmed  NewDeaths  TotalDeaths  NewRecovered  \\\n",
      "0             0          208084          0         7864             0   \n",
      "1            13          334097          0         3596             0   \n",
      "2            12          271328          0         6881             0   \n",
      "3             0           47820          0          165             0   \n",
      "4             0          105095          0         1930             0   \n",
      "\n",
      "                       Date Premium  \n",
      "0  2023-01-23T03:45:19.923Z      {}  \n",
      "1  2023-01-23T03:45:19.923Z      {}  \n",
      "2  2023-01-23T03:45:19.923Z      {}  \n",
      "3  2023-01-23T03:45:19.923Z      {}  \n",
      "4  2023-01-23T03:45:19.923Z      {}  \n"
     ]
    }
   ],
   "source": [
    "Covid19_df7 = Covid19_df.drop(columns= \"TotalRecovered\")\n",
    "print(Covid19_df7.head())"
   ]
  },
  {
   "cell_type": "code",
   "execution_count": 515,
   "id": "64d756f6",
   "metadata": {},
   "outputs": [
    {
     "name": "stdout",
     "output_type": "stream",
     "text": [
      "                                     ID         Country CountryCode  \\\n",
      "0  06d74a9b-c9fa-4e07-a2ba-0350ced61f0f         Austria          AT   \n",
      "1  1138018e-9c34-4cde-bf72-cddaa3d565c9         Belgium          BE   \n",
      "2  a8d74839-a7e3-4f16-b7b1-d54545e93325  Czech Republic          CZ   \n",
      "3  c2890f76-ffd9-4935-9c46-bceb4f8e089f         Denmark          DK   \n",
      "4  4352c681-0c0e-43c9-8f8f-9ee364f4f05a         Finland          FI   \n",
      "\n",
      "             Slug  NewConfirmed  TotalConfirmed  NewDeaths  TotalDeaths  \\\n",
      "0         austria          2226         5754062          4        21613   \n",
      "1         belgium             0         4688927          0        33525   \n",
      "2  czech-republic           270         4586356          6        42275   \n",
      "3         denmark           179         3444735         19         8121   \n",
      "4         finland          1173         1449829        126         8557   \n",
      "\n",
      "   NewRecovered                      Date Premium LOCATION        EURO_Status  \n",
      "0             0  2023-01-23T03:45:19.923Z      {}      AUT          Uses EURO  \n",
      "1             0  2023-01-23T03:45:19.923Z      {}      BEL          Uses EURO  \n",
      "2             0  2023-01-23T03:45:19.923Z      {}      CZE  Does not use EURO  \n",
      "3             0  2023-01-23T03:45:19.923Z      {}      DNK  Does not use EURO  \n",
      "4             0  2023-01-23T03:45:19.923Z      {}      FIN          Uses EURO  \n"
     ]
    }
   ],
   "source": [
    "Covid19_df8 = Covid19_df7.merge(EU27_df, on=\"Country\", how=\"right\")\n",
    "print(Covid19_df8.head())"
   ]
  },
  {
   "cell_type": "code",
   "execution_count": 516,
   "id": "c18f3f06",
   "metadata": {},
   "outputs": [
    {
     "data": {
      "text/plain": [
       "27"
      ]
     },
     "execution_count": 516,
     "metadata": {},
     "output_type": "execute_result"
    }
   ],
   "source": [
    "Covid19_df8[\"Country\"].count()"
   ]
  },
  {
   "cell_type": "code",
   "execution_count": 517,
   "id": "150dda98",
   "metadata": {},
   "outputs": [
    {
     "name": "stdout",
     "output_type": "stream",
     "text": [
      "          Country        EURO_Status          Metric  No. of People\n",
      "0         Austria          Uses EURO  TotalConfirmed        5754062\n",
      "1         Belgium          Uses EURO  TotalConfirmed        4688927\n",
      "2  Czech Republic  Does not use EURO  TotalConfirmed        4586356\n",
      "3         Denmark  Does not use EURO  TotalConfirmed        3444735\n",
      "4         Finland          Uses EURO  TotalConfirmed        1449829\n"
     ]
    }
   ],
   "source": [
    "Covid19_df8_Reshape = Covid19_df8.melt(id_vars=[\"Country\", \"EURO_Status\"], value_vars=[\"TotalConfirmed\", \"TotalDeaths\"], var_name= \"Metric\", value_name= \"No. of People\")\n",
    "print(Covid19_df8_Reshape.head())"
   ]
  },
  {
   "cell_type": "markdown",
   "id": "38d1ac86",
   "metadata": {},
   "source": [
    "3-e) Exchange Rate Data: Convert Health Expenditure into a EURO base"
   ]
  },
  {
   "cell_type": "code",
   "execution_count": 518,
   "id": "6f31d6a8",
   "metadata": {},
   "outputs": [
    {
     "name": "stdout",
     "output_type": "stream",
     "text": [
      "             date        eur\n",
      "1inch  2023-01-23   2.081234\n",
      "aave   2023-01-23   0.012500\n",
      "ada    2023-01-23   2.857970\n",
      "aed    2023-01-23   3.997933\n",
      "afn    2023-01-23  96.779186\n"
     ]
    }
   ],
   "source": [
    "print(CurrExch_df.head())"
   ]
  },
  {
   "cell_type": "code",
   "execution_count": 519,
   "id": "323e66db",
   "metadata": {},
   "outputs": [
    {
     "name": "stdout",
     "output_type": "stream",
     "text": [
      "date    2023-01-23\n",
      "eur       1.088459\n",
      "Name: usd, dtype: object\n"
     ]
    }
   ],
   "source": [
    "CurrExch_df2 = CurrExch_df.loc[\"usd\"]\n",
    "print(CurrExch_df2)"
   ]
  },
  {
   "cell_type": "code",
   "execution_count": 720,
   "id": "15529290",
   "metadata": {},
   "outputs": [
    {
     "name": "stdout",
     "output_type": "stream",
     "text": [
      "  LOCATION      2017      2018      2019  3 YEAR TOTAL  3 YEAR AVERAGE  \\\n",
      "0      AUT  5315.355  5518.538  5624.014     16457.907     5485.969000   \n",
      "1      BEL  5121.186  5315.194  5352.871     15789.251     5263.083667   \n",
      "2      CZE  2969.542  3128.523  3272.224      9370.289     3123.429667   \n",
      "3      DNK  5112.959  5306.704  5359.776     15779.439     5259.813000   \n",
      "4      FIN  4215.309  4330.443  4383.634     12929.386     4309.795333   \n",
      "\n",
      "          Country        EURO_Status  Exhange Rate  3 YEAR AVERAGE EURO  \n",
      "0         Austria          Uses EURO      1.088459          5065.759208  \n",
      "1         Belgium          Uses EURO      1.088459          4859.946264  \n",
      "2  Czech Republic  Does not use EURO      1.088459          2884.183741  \n",
      "3         Denmark  Does not use EURO      1.088459          4856.926121  \n",
      "4         Finland          Uses EURO      1.088459          3979.677135  \n"
     ]
    }
   ],
   "source": [
    "HealthExp_df20[\"Exhange Rate\"] = 1.088459\n",
    "print(HealthExp_df20.head())"
   ]
  },
  {
   "cell_type": "code",
   "execution_count": 721,
   "id": "38a4fce2",
   "metadata": {},
   "outputs": [
    {
     "name": "stdout",
     "output_type": "stream",
     "text": [
      "  LOCATION      2017      2018      2019  3 YEAR TOTAL  3 YEAR AVERAGE  \\\n",
      "0      AUT  5315.355  5518.538  5624.014     16457.907     5485.969000   \n",
      "1      BEL  5121.186  5315.194  5352.871     15789.251     5263.083667   \n",
      "2      CZE  2969.542  3128.523  3272.224      9370.289     3123.429667   \n",
      "3      DNK  5112.959  5306.704  5359.776     15779.439     5259.813000   \n",
      "4      FIN  4215.309  4330.443  4383.634     12929.386     4309.795333   \n",
      "\n",
      "          Country        EURO_Status  Exhange Rate  3 YEAR AVERAGE EURO  \n",
      "0         Austria          Uses EURO      1.088459          5040.124617  \n",
      "1         Belgium          Uses EURO      1.088459          4835.353161  \n",
      "2  Czech Republic  Does not use EURO      1.088459          2869.588718  \n",
      "3         Denmark  Does not use EURO      1.088459          4832.348302  \n",
      "4         Finland          Uses EURO      1.088459          3959.538516  \n"
     ]
    }
   ],
   "source": [
    "HealthExp_df20[\"3 YEAR AVERAGE EURO\"] = HealthExp_df20[\"3 YEAR AVERAGE\"] / 1.088459\n",
    "print(HealthExp_df20.head())"
   ]
  },
  {
   "cell_type": "markdown",
   "id": "8a324902",
   "metadata": {},
   "source": [
    "# 4) ANALYSIS"
   ]
  },
  {
   "cell_type": "markdown",
   "id": "27141ea7",
   "metadata": {},
   "source": [
    "4-a) EU Population Data: Update with missing Population figures"
   ]
  },
  {
   "cell_type": "code",
   "execution_count": 722,
   "id": "07cce6c3",
   "metadata": {},
   "outputs": [],
   "source": [
    "missing_pop_data = { \"LOCATION\": [\"AUT\",\"BEL\",\"DEU\",\"SVN\",\"LVA\"],\n",
    "     \"Country\": [\"Austria\", \"Belgium\", \"Germany\", \"Slovenia\", \"Latvia\"],\n",
    "     \"2022 Population\": [8978929, 11631136, 83237124, 2107180, 1875757]}"
   ]
  },
  {
   "cell_type": "code",
   "execution_count": 723,
   "id": "f5924729",
   "metadata": {},
   "outputs": [
    {
     "name": "stdout",
     "output_type": "stream",
     "text": [
      "  LOCATION   Country  2022 Population\n",
      "0      AUT   Austria          8978929\n",
      "1      BEL   Belgium         11631136\n",
      "2      DEU   Germany         83237124\n",
      "3      SVN  Slovenia          2107180\n",
      "4      LVA    Latvia          1875757\n"
     ]
    }
   ],
   "source": [
    "EUPop_df4 = pd.DataFrame(missing_pop_data)\n",
    "print(EUPop_df4)"
   ]
  },
  {
   "cell_type": "code",
   "execution_count": 724,
   "id": "c2dd083e",
   "metadata": {},
   "outputs": [
    {
     "name": "stdout",
     "output_type": "stream",
     "text": [
      "          Country        2022 LOCATION_df3        EURO_Status LOCATION_df4  \\\n",
      "0         Austria         0.0          AUT          Uses EURO          AUT   \n",
      "1         Belgium         0.0          BEL          Uses EURO          BEL   \n",
      "2  Czech Republic  10516707.0          CZE  Does not use EURO          NaN   \n",
      "3         Denmark   5873420.0          DNK  Does not use EURO          NaN   \n",
      "4         Finland   5548241.0          FIN          Uses EURO          NaN   \n",
      "\n",
      "   2022 Population  \n",
      "0        8978929.0  \n",
      "1       11631136.0  \n",
      "2              NaN  \n",
      "3              NaN  \n",
      "4              NaN  \n"
     ]
    }
   ],
   "source": [
    "EUPop_df5 = EUPop_df3.merge(EUPop_df4, on=\"Country\", how=\"left\", suffixes= (\"_df3\", \"_df4\"))\n",
    "print(EUPop_df5.head())"
   ]
  },
  {
   "cell_type": "code",
   "execution_count": 725,
   "id": "e0574614",
   "metadata": {},
   "outputs": [],
   "source": [
    "EUPop_df5[\"2022 Population\"] = EUPop_df5[\"2022 Population\"].fillna(0)"
   ]
  },
  {
   "cell_type": "code",
   "execution_count": 726,
   "id": "9580b52d",
   "metadata": {},
   "outputs": [],
   "source": [
    "EUPop_df5[2022] = EUPop_df5[2022].fillna(0)"
   ]
  },
  {
   "cell_type": "code",
   "execution_count": 727,
   "id": "2d6b8fd2",
   "metadata": {},
   "outputs": [
    {
     "name": "stdout",
     "output_type": "stream",
     "text": [
      "          Country        2022 LOCATION_df3        EURO_Status LOCATION_df4  \\\n",
      "0         Austria         0.0          AUT          Uses EURO          AUT   \n",
      "1         Belgium         0.0          BEL          Uses EURO          BEL   \n",
      "2  Czech Republic  10516707.0          CZE  Does not use EURO          NaN   \n",
      "3         Denmark   5873420.0          DNK  Does not use EURO          NaN   \n",
      "4         Finland   5548241.0          FIN          Uses EURO          NaN   \n",
      "\n",
      "   2022 Population    2022 Pop  \n",
      "0        8978929.0   8978929.0  \n",
      "1       11631136.0  11631136.0  \n",
      "2              0.0  10516707.0  \n",
      "3              0.0   5873420.0  \n",
      "4              0.0   5548241.0  \n"
     ]
    }
   ],
   "source": [
    "EUPop_df5[\"2022 Pop\"] = EUPop_df5[2022] + EUPop_df5[\"2022 Population\"]\n",
    "print(EUPop_df5.head())"
   ]
  },
  {
   "cell_type": "code",
   "execution_count": 728,
   "id": "ed8d9710",
   "metadata": {},
   "outputs": [
    {
     "name": "stdout",
     "output_type": "stream",
     "text": [
      "          Country        EURO_Status    2022 Pop\n",
      "0         Austria          Uses EURO   8978929.0\n",
      "1         Belgium          Uses EURO  11631136.0\n",
      "2  Czech Republic  Does not use EURO  10516707.0\n",
      "3         Denmark  Does not use EURO   5873420.0\n",
      "4         Finland          Uses EURO   5548241.0\n"
     ]
    }
   ],
   "source": [
    "EUPop_df6 = EUPop_df5[[\"Country\", \"EURO_Status\", \"2022 Pop\"]]\n",
    "print(EUPop_df6.head())"
   ]
  },
  {
   "cell_type": "code",
   "execution_count": 729,
   "id": "4dc49015",
   "metadata": {},
   "outputs": [
    {
     "name": "stdout",
     "output_type": "stream",
     "text": [
      "           Country        EURO_Status    2022 Pop\n",
      "0          Austria          Uses EURO   8978929.0\n",
      "1          Belgium          Uses EURO  11631136.0\n",
      "2   Czech Republic  Does not use EURO  10516707.0\n",
      "3          Denmark  Does not use EURO   5873420.0\n",
      "4          Finland          Uses EURO   5548241.0\n",
      "5           France          Uses EURO  67842582.0\n",
      "6          Germany          Uses EURO  83237124.0\n",
      "7           Greece          Uses EURO  10603810.0\n",
      "8          Hungary  Does not use EURO   9689010.0\n",
      "9          Ireland          Uses EURO   5060005.0\n",
      "10           Italy          Uses EURO  58983122.0\n",
      "11      Luxembourg          Uses EURO    645397.0\n",
      "12     Netherlands          Uses EURO  17590672.0\n",
      "13          Poland  Does not use EURO  37654247.0\n",
      "14        Portugal          Uses EURO  10352042.0\n",
      "15        Slovakia          Uses EURO   5434712.0\n",
      "16           Spain          Uses EURO  47432805.0\n",
      "17          Sweden  Does not use EURO  10452326.0\n",
      "18         Estonia          Uses EURO   1331796.0\n",
      "19        Slovenia          Uses EURO   2107180.0\n",
      "20          Latvia          Uses EURO   1875757.0\n",
      "21       Lithuania          Uses EURO   2805998.0\n",
      "22        Bulgaria  Does not use EURO   6838937.0\n",
      "23         Croatia          Uses EURO   3879074.0\n",
      "24          Cyprus          Uses EURO    904705.0\n",
      "25           Malta          Uses EURO    520971.0\n",
      "26         Romania  Does not use EURO  19038098.0\n"
     ]
    }
   ],
   "source": [
    "print(EUPop_df6)"
   ]
  },
  {
   "cell_type": "code",
   "execution_count": 730,
   "id": "572eb341",
   "metadata": {},
   "outputs": [
    {
     "data": {
      "text/plain": [
       "446828803.0"
      ]
     },
     "execution_count": 730,
     "metadata": {},
     "output_type": "execute_result"
    }
   ],
   "source": [
    "EUPop_df6[\"2022 Pop\"].sum()"
   ]
  },
  {
   "cell_type": "code",
   "execution_count": 731,
   "id": "178af766",
   "metadata": {},
   "outputs": [
    {
     "data": {
      "text/plain": [
       "amax    83237124.0\n",
       "amin      520971.0\n",
       "Name: 2022 Pop, dtype: float64"
      ]
     },
     "execution_count": 731,
     "metadata": {},
     "output_type": "execute_result"
    }
   ],
   "source": [
    "EUPop_df6[\"2022 Pop\"].agg([np.max, np.min])"
   ]
  },
  {
   "cell_type": "code",
   "execution_count": 732,
   "id": "047ecfc4",
   "metadata": {},
   "outputs": [],
   "source": [
    "def MAX_MIN_diff(column):\n",
    "    return column.max() - column.min()"
   ]
  },
  {
   "cell_type": "code",
   "execution_count": 733,
   "id": "4fbfdce9",
   "metadata": {},
   "outputs": [
    {
     "data": {
      "text/plain": [
       "82716153.0"
      ]
     },
     "execution_count": 733,
     "metadata": {},
     "output_type": "execute_result"
    }
   ],
   "source": [
    "MAX_MIN_diff(EUPop_df6[\"2022 Pop\"])"
   ]
  },
  {
   "cell_type": "markdown",
   "id": "caa940f2",
   "metadata": {},
   "source": [
    "4-b) Health Expenditure Data: Analyse expenditure across EU countries"
   ]
  },
  {
   "cell_type": "code",
   "execution_count": 734,
   "id": "3a16cbb5",
   "metadata": {},
   "outputs": [
    {
     "name": "stdout",
     "output_type": "stream",
     "text": [
      "  LOCATION      2017      2018      2019  3 YEAR TOTAL  3 YEAR AVERAGE  \\\n",
      "0      AUT  5315.355  5518.538  5624.014     16457.907     5485.969000   \n",
      "1      BEL  5121.186  5315.194  5352.871     15789.251     5263.083667   \n",
      "2      CZE  2969.542  3128.523  3272.224      9370.289     3123.429667   \n",
      "3      DNK  5112.959  5306.704  5359.776     15779.439     5259.813000   \n",
      "4      FIN  4215.309  4330.443  4383.634     12929.386     4309.795333   \n",
      "\n",
      "          Country        EURO_Status  Exhange Rate  3 YEAR AVERAGE EURO  \n",
      "0         Austria          Uses EURO      1.088459          5040.124617  \n",
      "1         Belgium          Uses EURO      1.088459          4835.353161  \n",
      "2  Czech Republic  Does not use EURO      1.088459          2869.588718  \n",
      "3         Denmark  Does not use EURO      1.088459          4832.348302  \n",
      "4         Finland          Uses EURO      1.088459          3959.538516  \n"
     ]
    }
   ],
   "source": [
    "print(HealthExp_df20.head())"
   ]
  },
  {
   "cell_type": "code",
   "execution_count": 735,
   "id": "104378d7",
   "metadata": {},
   "outputs": [],
   "source": [
    "HealthExp_df21 = HealthExp_df20.round({\"2017\":-1, \"2018\":-1, \"2019\":-1, \"3 YEAR TOTAL\":-1, \"3 YEAR AVERAGE\":-1, \"3 YEAR AVERAGE EURO\":-1})"
   ]
  },
  {
   "cell_type": "code",
   "execution_count": 820,
   "id": "572d46e9",
   "metadata": {},
   "outputs": [
    {
     "data": {
      "text/plain": [
       "5710.0"
      ]
     },
     "execution_count": 820,
     "metadata": {},
     "output_type": "execute_result"
    }
   ],
   "source": [
    "HealthExp_df21[\"3 YEAR AVERAGE EURO\"].max()"
   ]
  },
  {
   "cell_type": "code",
   "execution_count": 821,
   "id": "fa1ebd68",
   "metadata": {},
   "outputs": [
    {
     "name": "stdout",
     "output_type": "stream",
     "text": [
      "6    Germany\n",
      "Name: Country, dtype: object\n"
     ]
    }
   ],
   "source": [
    "Max_Spend = HealthExp_df21[HealthExp_df21[\"3 YEAR AVERAGE EURO\"]== 5710]\n",
    "print(Max_Spend[\"Country\"])"
   ]
  },
  {
   "cell_type": "code",
   "execution_count": 822,
   "id": "b530dffc",
   "metadata": {},
   "outputs": [
    {
     "data": {
      "text/plain": [
       "1510.0"
      ]
     },
     "execution_count": 822,
     "metadata": {},
     "output_type": "execute_result"
    }
   ],
   "source": [
    "HealthExp_df21[\"3 YEAR AVERAGE EURO\"].min()"
   ]
  },
  {
   "cell_type": "code",
   "execution_count": 823,
   "id": "f61a1d2d",
   "metadata": {},
   "outputs": [
    {
     "name": "stdout",
     "output_type": "stream",
     "text": [
      "26    Romania\n",
      "Name: Country, dtype: object\n"
     ]
    }
   ],
   "source": [
    "Min_Spend = HealthExp_df21[HealthExp_df21[\"3 YEAR AVERAGE EURO\"]== 1510]\n",
    "print(Min_Spend[\"Country\"])"
   ]
  },
  {
   "cell_type": "code",
   "execution_count": 824,
   "id": "966bcbd0",
   "metadata": {},
   "outputs": [
    {
     "data": {
      "text/plain": [
       "4200.0"
      ]
     },
     "execution_count": 824,
     "metadata": {},
     "output_type": "execute_result"
    }
   ],
   "source": [
    "MAX_MIN_diff(HealthExp_df21[\"3 YEAR AVERAGE EURO\"])"
   ]
  },
  {
   "cell_type": "code",
   "execution_count": 825,
   "id": "00f95439",
   "metadata": {},
   "outputs": [
    {
     "data": {
      "text/plain": [
       "mean      3250.740741\n",
       "median    2870.000000\n",
       "Name: 3 YEAR AVERAGE EURO, dtype: float64"
      ]
     },
     "execution_count": 825,
     "metadata": {},
     "output_type": "execute_result"
    }
   ],
   "source": [
    "HealthExp_df21[\"3 YEAR AVERAGE EURO\"].agg([np.mean, np.median])"
   ]
  },
  {
   "cell_type": "code",
   "execution_count": 826,
   "id": "3d79ab8e",
   "metadata": {},
   "outputs": [
    {
     "name": "stdout",
     "output_type": "stream",
     "text": [
      "9    4440.0\n",
      "Name: 3 YEAR AVERAGE EURO, dtype: float64\n"
     ]
    }
   ],
   "source": [
    "Ire_Spend = HealthExp_df21[HealthExp_df21[\"Country\"]== \"Ireland\"]\n",
    "print(Ire_Spend[\"3 YEAR AVERAGE EURO\"])"
   ]
  },
  {
   "cell_type": "code",
   "execution_count": 827,
   "id": "e95e0826",
   "metadata": {},
   "outputs": [],
   "source": [
    "HealthExp_df21[\"Rank\"] = HealthExp_df21[\"3 YEAR AVERAGE EURO\"].rank(ascending= False)"
   ]
  },
  {
   "cell_type": "code",
   "execution_count": 828,
   "id": "29df99f2",
   "metadata": {},
   "outputs": [
    {
     "name": "stdout",
     "output_type": "stream",
     "text": [
      "9    9.0\n",
      "Name: Rank, dtype: float64\n"
     ]
    }
   ],
   "source": [
    "Ire_Spend = HealthExp_df21[HealthExp_df21[\"Country\"]== \"Ireland\"]\n",
    "print(Ire_Spend[\"Rank\"])"
   ]
  },
  {
   "cell_type": "code",
   "execution_count": 829,
   "id": "da80e746",
   "metadata": {},
   "outputs": [
    {
     "name": "stdout",
     "output_type": "stream",
     "text": [
      "           Country  3 YEAR AVERAGE EURO  Rank\n",
      "6          Germany               5710.0   1.0\n",
      "0          Austria               5040.0   2.0\n",
      "12     Netherlands               5020.0   3.0\n",
      "17          Sweden               4910.0   4.0\n",
      "1          Belgium               4840.0   5.0\n",
      "3          Denmark               4830.0   6.0\n",
      "11      Luxembourg               4800.0   7.0\n",
      "5           France               4680.0   8.0\n",
      "9          Ireland               4440.0   9.0\n",
      "4          Finland               3960.0  10.0\n",
      "25           Malta               3550.0  11.0\n",
      "10           Italy               3200.0  12.0\n",
      "16           Spain               3140.0  13.0\n",
      "2   Czech Republic               2870.0  14.0\n",
      "14        Portugal               2840.0  15.0\n",
      "19        Slovenia               2790.0  16.0\n",
      "24          Cyprus               2370.0  17.0\n",
      "21       Lithuania               2240.0  18.0\n",
      "18         Estonia               2150.0  19.0\n",
      "7           Greece               2120.0  20.0\n",
      "13          Poland               1960.0  21.0\n",
      "8          Hungary               1900.0  22.0\n",
      "15        Slovakia               1870.0  23.0\n",
      "23         Croatia               1720.0  24.0\n",
      "20          Latvia               1700.0  25.0\n",
      "22        Bulgaria               1610.0  26.0\n",
      "26         Romania               1510.0  27.0\n"
     ]
    }
   ],
   "source": [
    "HealthExp_df22 = HealthExp_df21.sort_values(\"3 YEAR AVERAGE EURO\", ascending= False)\n",
    "print(HealthExp_df22[[\"Country\", \"3 YEAR AVERAGE EURO\", \"Rank\"]])"
   ]
  },
  {
   "cell_type": "code",
   "execution_count": 830,
   "id": "3bcf13ea",
   "metadata": {},
   "outputs": [
    {
     "data": {
      "text/plain": [
       "4740.0"
      ]
     },
     "execution_count": 830,
     "metadata": {},
     "output_type": "execute_result"
    }
   ],
   "source": [
    "HealthExp_df21[\"3 YEAR AVERAGE EURO\"].quantile(0.75)"
   ]
  },
  {
   "cell_type": "code",
   "execution_count": 831,
   "id": "f73c48d9",
   "metadata": {},
   "outputs": [
    {
     "name": "stdout",
     "output_type": "stream",
     "text": [
      "           Country  3 YEAR AVERAGE EURO  Rank   LEVEL\n",
      "6          Germany               5710.0   1.0    HIGH\n",
      "0          Austria               5040.0   2.0    HIGH\n",
      "12     Netherlands               5020.0   3.0    HIGH\n",
      "17          Sweden               4910.0   4.0    HIGH\n",
      "1          Belgium               4840.0   5.0    HIGH\n",
      "3          Denmark               4830.0   6.0    HIGH\n",
      "11      Luxembourg               4800.0   7.0    HIGH\n",
      "5           France               4680.0   8.0  MEDIUM\n",
      "9          Ireland               4440.0   9.0  MEDIUM\n",
      "4          Finland               3960.0  10.0  MEDIUM\n",
      "25           Malta               3550.0  11.0  MEDIUM\n",
      "10           Italy               3200.0  12.0  MEDIUM\n",
      "16           Spain               3140.0  13.0  MEDIUM\n",
      "2   Czech Republic               2870.0  14.0  MEDIUM\n",
      "14        Portugal               2840.0  15.0  MEDIUM\n",
      "19        Slovenia               2790.0  16.0  MEDIUM\n",
      "24          Cyprus               2370.0  17.0  MEDIUM\n",
      "21       Lithuania               2240.0  18.0  MEDIUM\n",
      "18         Estonia               2150.0  19.0  MEDIUM\n",
      "7           Greece               2120.0  20.0  MEDIUM\n",
      "13          Poland               1960.0  21.0     LOW\n",
      "8          Hungary               1900.0  22.0     LOW\n",
      "15        Slovakia               1870.0  23.0     LOW\n",
      "23         Croatia               1720.0  24.0     LOW\n",
      "20          Latvia               1700.0  25.0     LOW\n",
      "22        Bulgaria               1610.0  26.0     LOW\n",
      "26         Romania               1510.0  27.0     LOW\n"
     ]
    }
   ],
   "source": [
    "result = []\n",
    "for value in HealthExp_df22[\"3 YEAR AVERAGE EURO\"]:\n",
    "    if value >HealthExp_df22[\"3 YEAR AVERAGE EURO\"].quantile(0.75):\n",
    "        result.append(\"HIGH\")\n",
    "    elif value >HealthExp_df22[\"3 YEAR AVERAGE EURO\"].quantile(0.25):\n",
    "        result.append(\"MEDIUM\")\n",
    "    else:\n",
    "        result.append(\"LOW\")\n",
    "        \n",
    "HealthExp_df22[\"LEVEL\"]= result\n",
    "print(HealthExp_df22[[\"Country\", \"3 YEAR AVERAGE EURO\", \"Rank\", \"LEVEL\"]])"
   ]
  },
  {
   "cell_type": "markdown",
   "id": "a4d331fa",
   "metadata": {},
   "source": [
    "4-c) Covid-19 Data: Analyse Cases & Deaths across EU Countries"
   ]
  },
  {
   "cell_type": "code",
   "execution_count": 832,
   "id": "b3c315c8",
   "metadata": {},
   "outputs": [
    {
     "data": {
      "text/plain": [
       "amin      116894\n",
       "amax    39681509\n",
       "Name: TotalConfirmed, dtype: int64"
      ]
     },
     "execution_count": 832,
     "metadata": {},
     "output_type": "execute_result"
    }
   ],
   "source": [
    "Covid19_df8[\"TotalConfirmed\"].agg([np.min, np.max])"
   ]
  },
  {
   "cell_type": "code",
   "execution_count": 904,
   "id": "731730b5",
   "metadata": {},
   "outputs": [
    {
     "name": "stdout",
     "output_type": "stream",
     "text": [
      "   Country  TotalDeaths\n",
      "25   Malta          823\n"
     ]
    }
   ],
   "source": [
    "print(Covid19_df8.loc[Covid19_df8[\"TotalConfirmed\"]== 116894, [\"Country\", \"TotalDeaths\"]])"
   ]
  },
  {
   "cell_type": "code",
   "execution_count": 905,
   "id": "e8106666",
   "metadata": {},
   "outputs": [
    {
     "name": "stdout",
     "output_type": "stream",
     "text": [
      "  Country  TotalDeaths\n",
      "5  France       164793\n"
     ]
    }
   ],
   "source": [
    "print(Covid19_df8.loc[Covid19_df8[\"TotalConfirmed\"]== 39681509, [\"Country\", \"TotalDeaths\"]])"
   ]
  },
  {
   "cell_type": "code",
   "execution_count": 906,
   "id": "84a7c11e",
   "metadata": {},
   "outputs": [
    {
     "name": "stdout",
     "output_type": "stream",
     "text": [
      "                                     ID         Country CountryCode  \\\n",
      "0  06d74a9b-c9fa-4e07-a2ba-0350ced61f0f         Austria          AT   \n",
      "1  1138018e-9c34-4cde-bf72-cddaa3d565c9         Belgium          BE   \n",
      "2  a8d74839-a7e3-4f16-b7b1-d54545e93325  Czech Republic          CZ   \n",
      "3  c2890f76-ffd9-4935-9c46-bceb4f8e089f         Denmark          DK   \n",
      "4  4352c681-0c0e-43c9-8f8f-9ee364f4f05a         Finland          FI   \n",
      "\n",
      "             Slug  NewConfirmed  TotalConfirmed  NewDeaths  TotalDeaths  \\\n",
      "0         austria          2226         5754062          4        21613   \n",
      "1         belgium             0         4688927          0        33525   \n",
      "2  czech-republic           270         4586356          6        42275   \n",
      "3         denmark           179         3444735         19         8121   \n",
      "4         finland          1173         1449829        126         8557   \n",
      "\n",
      "   NewRecovered                      Date Premium LOCATION        EURO_Status  \n",
      "0             0  2023-01-23T03:45:19.923Z      {}      AUT          Uses EURO  \n",
      "1             0  2023-01-23T03:45:19.923Z      {}      BEL          Uses EURO  \n",
      "2             0  2023-01-23T03:45:19.923Z      {}      CZE  Does not use EURO  \n",
      "3             0  2023-01-23T03:45:19.923Z      {}      DNK  Does not use EURO  \n",
      "4             0  2023-01-23T03:45:19.923Z      {}      FIN          Uses EURO  \n"
     ]
    }
   ],
   "source": [
    "print(Covid19_df8.head())"
   ]
  },
  {
   "cell_type": "code",
   "execution_count": 907,
   "id": "1a4b604c",
   "metadata": {},
   "outputs": [
    {
     "name": "stdout",
     "output_type": "stream",
     "text": [
      "                                     ID         Country CountryCode  \\\n",
      "0  06d74a9b-c9fa-4e07-a2ba-0350ced61f0f         Austria          AT   \n",
      "1  1138018e-9c34-4cde-bf72-cddaa3d565c9         Belgium          BE   \n",
      "2  a8d74839-a7e3-4f16-b7b1-d54545e93325  Czech Republic          CZ   \n",
      "3  c2890f76-ffd9-4935-9c46-bceb4f8e089f         Denmark          DK   \n",
      "4  4352c681-0c0e-43c9-8f8f-9ee364f4f05a         Finland          FI   \n",
      "\n",
      "             Slug  NewConfirmed  TotalConfirmed  NewDeaths  TotalDeaths  \\\n",
      "0         austria          2226         5754062          4        21613   \n",
      "1         belgium             0         4688927          0        33525   \n",
      "2  czech-republic           270         4586356          6        42275   \n",
      "3         denmark           179         3444735         19         8121   \n",
      "4         finland          1173         1449829        126         8557   \n",
      "\n",
      "   NewRecovered                      Date Premium        EURO_Status  \\\n",
      "0             0  2023-01-23T03:45:19.923Z      {}          Uses EURO   \n",
      "1             0  2023-01-23T03:45:19.923Z      {}          Uses EURO   \n",
      "2             0  2023-01-23T03:45:19.923Z      {}  Does not use EURO   \n",
      "3             0  2023-01-23T03:45:19.923Z      {}  Does not use EURO   \n",
      "4             0  2023-01-23T03:45:19.923Z      {}          Uses EURO   \n",
      "\n",
      "     2022 Pop  TotalConfirmed per 10,000  TotalDeaths per 10,000  \\\n",
      "0   8978929.0                6408.405724               24.070800   \n",
      "1  11631136.0                4031.357728               28.823496   \n",
      "2  10516707.0                4361.019091               40.197944   \n",
      "3   5873420.0                5864.956022               13.826697   \n",
      "4   5548241.0                2613.132703               15.422906   \n",
      "\n",
      "   TotalConfirmed per 10,000 Rank  TotalDeaths per 10,000 Rank  \n",
      "0                             2.0                         17.0  \n",
      "1                            17.0                         13.0  \n",
      "2                            15.0                          4.0  \n",
      "3                             4.0                         26.0  \n",
      "4                            21.0                         24.0  \n"
     ]
    }
   ],
   "source": [
    "Covid19_df9 = Covid19_df8.merge(EUPop_df6, on=[\"Country\", \"EURO_Status\"], how=\"left\")\n",
    "Covid19_df10 = Covid19_df9.drop(columns= \"LOCATION\")\n",
    "Covid19_df10[\"TotalConfirmed per 10,000\"] = (Covid19_df10[\"TotalConfirmed\"] / Covid19_df10[\"2022 Pop\"]) * 10000\n",
    "Covid19_df10[\"TotalDeaths per 10,000\"] = (Covid19_df10[\"TotalDeaths\"] / Covid19_df10[\"2022 Pop\"]) * 10000\n",
    "Covid19_df10[\"TotalConfirmed per 10,000 Rank\"] = Covid19_df10[\"TotalConfirmed per 10,000\"].rank(ascending= False)\n",
    "Covid19_df10[\"TotalDeaths per 10,000 Rank\"] = Covid19_df10[\"TotalDeaths per 10,000\"].rank(ascending= False)\n",
    "print(Covid19_df10.head())"
   ]
  },
  {
   "cell_type": "code",
   "execution_count": 908,
   "id": "959db6f3",
   "metadata": {},
   "outputs": [
    {
     "data": {
      "text/plain": [
       "amin    1693.029740\n",
       "amax    7082.187011\n",
       "Name: TotalConfirmed per 10,000, dtype: float64"
      ]
     },
     "execution_count": 908,
     "metadata": {},
     "output_type": "execute_result"
    }
   ],
   "source": [
    "Covid19_df10[\"TotalConfirmed per 10,000\"].agg([np.min, np.max])"
   ]
  },
  {
   "cell_type": "code",
   "execution_count": 909,
   "id": "30f596ca",
   "metadata": {},
   "outputs": [
    {
     "name": "stdout",
     "output_type": "stream",
     "text": [
      "   Country  TotalDeaths per 10,000 Rank\n",
      "13  Poland                         12.0\n"
     ]
    }
   ],
   "source": [
    "print(Covid19_df10.loc[Covid19_df10[\"TotalConfirmed per 10,000 Rank\"]== 27, [\"Country\", \"TotalDeaths per 10,000 Rank\"]])"
   ]
  },
  {
   "cell_type": "code",
   "execution_count": 910,
   "id": "dc43dfc7",
   "metadata": {},
   "outputs": [
    {
     "name": "stdout",
     "output_type": "stream",
     "text": [
      "   Country  TotalDeaths per 10,000 Rank\n",
      "24  Cyprus                         25.0\n"
     ]
    }
   ],
   "source": [
    "print(Covid19_df10.loc[Covid19_df10[\"TotalConfirmed per 10,000 Rank\"]== 1, [\"Country\", \"TotalDeaths per 10,000 Rank\"]])"
   ]
  },
  {
   "cell_type": "code",
   "execution_count": 911,
   "id": "44cd1207",
   "metadata": {},
   "outputs": [
    {
     "name": "stdout",
     "output_type": "stream",
     "text": [
      "        Country  TotalDeaths per 10,000  TotalDeaths\n",
      "12  Netherlands               13.069427        22990\n"
     ]
    }
   ],
   "source": [
    "print(Covid19_df10.loc[Covid19_df10[\"TotalDeaths per 10,000 Rank\"]== 27, [\"Country\", \"TotalDeaths per 10,000\", \"TotalDeaths\"]])"
   ]
  },
  {
   "cell_type": "code",
   "execution_count": 912,
   "id": "907f4d92",
   "metadata": {},
   "outputs": [
    {
     "name": "stdout",
     "output_type": "stream",
     "text": [
      "     Country  TotalDeaths per 10,000  TotalDeaths\n",
      "22  Bulgaria               55.798145        38160\n"
     ]
    }
   ],
   "source": [
    "print(Covid19_df10.loc[Covid19_df10[\"TotalDeaths per 10,000 Rank\"]== 1, [\"Country\", \"TotalDeaths per 10,000\", \"TotalDeaths\"]])"
   ]
  },
  {
   "cell_type": "code",
   "execution_count": 913,
   "id": "38dfe1aa",
   "metadata": {},
   "outputs": [
    {
     "name": "stdout",
     "output_type": "stream",
     "text": [
      "                                     ID         Country CountryCode  \\\n",
      "0  06d74a9b-c9fa-4e07-a2ba-0350ced61f0f         Austria          AT   \n",
      "1  1138018e-9c34-4cde-bf72-cddaa3d565c9         Belgium          BE   \n",
      "2  a8d74839-a7e3-4f16-b7b1-d54545e93325  Czech Republic          CZ   \n",
      "3  c2890f76-ffd9-4935-9c46-bceb4f8e089f         Denmark          DK   \n",
      "4  4352c681-0c0e-43c9-8f8f-9ee364f4f05a         Finland          FI   \n",
      "\n",
      "             Slug  NewConfirmed  TotalConfirmed  NewDeaths  TotalDeaths  \\\n",
      "0         austria          2226         5754062          4        21613   \n",
      "1         belgium             0         4688927          0        33525   \n",
      "2  czech-republic           270         4586356          6        42275   \n",
      "3         denmark           179         3444735         19         8121   \n",
      "4         finland          1173         1449829        126         8557   \n",
      "\n",
      "   NewRecovered                      Date Premium        EURO_Status  \\\n",
      "0             0  2023-01-23T03:45:19.923Z      {}          Uses EURO   \n",
      "1             0  2023-01-23T03:45:19.923Z      {}          Uses EURO   \n",
      "2             0  2023-01-23T03:45:19.923Z      {}  Does not use EURO   \n",
      "3             0  2023-01-23T03:45:19.923Z      {}  Does not use EURO   \n",
      "4             0  2023-01-23T03:45:19.923Z      {}          Uses EURO   \n",
      "\n",
      "     2022 Pop  TotalConfirmed per 10,000  TotalDeaths per 10,000  \\\n",
      "0   8978929.0                     6408.0                    24.0   \n",
      "1  11631136.0                     4031.0                    29.0   \n",
      "2  10516707.0                     4361.0                    40.0   \n",
      "3   5873420.0                     5865.0                    14.0   \n",
      "4   5548241.0                     2613.0                    15.0   \n",
      "\n",
      "   TotalConfirmed per 10,000 Rank  TotalDeaths per 10,000 Rank  \n",
      "0                             2.0                         17.0  \n",
      "1                            17.0                         13.0  \n",
      "2                            15.0                          4.0  \n",
      "3                             4.0                         26.0  \n",
      "4                            21.0                         24.0  \n"
     ]
    }
   ],
   "source": [
    "Covid19_df11 = Covid19_df10.round({\"TotalConfirmed per 10,000\":0, \"TotalDeaths per 10,000\":0})\n",
    "print(Covid19_df11.head())"
   ]
  },
  {
   "cell_type": "code",
   "execution_count": 914,
   "id": "7b2c88fa",
   "metadata": {},
   "outputs": [
    {
     "data": {
      "text/plain": [
       "43.0"
      ]
     },
     "execution_count": 914,
     "metadata": {},
     "output_type": "execute_result"
    }
   ],
   "source": [
    "MAX_MIN_diff(Covid19_df11[\"TotalDeaths per 10,000\"])"
   ]
  },
  {
   "cell_type": "code",
   "execution_count": 915,
   "id": "d94f1c4a",
   "metadata": {},
   "outputs": [],
   "source": [
    "def MAX_MIN_diff_Pct(column):\n",
    "    return ((column.max() - column.min()) / column.min()) * 100"
   ]
  },
  {
   "cell_type": "code",
   "execution_count": 916,
   "id": "3852d229",
   "metadata": {},
   "outputs": [
    {
     "data": {
      "text/plain": [
       "330.7692307692308"
      ]
     },
     "execution_count": 916,
     "metadata": {},
     "output_type": "execute_result"
    }
   ],
   "source": [
    "MAX_MIN_diff_Pct(Covid19_df11[\"TotalDeaths per 10,000\"])"
   ]
  },
  {
   "cell_type": "markdown",
   "id": "af27000b",
   "metadata": {},
   "source": [
    "# 5) VISUALISATION"
   ]
  },
  {
   "cell_type": "markdown",
   "id": "04ff7ef9",
   "metadata": {},
   "source": [
    "5-a) Prepare Data for Visualisation: Health Expenditure Data"
   ]
  },
  {
   "cell_type": "code",
   "execution_count": 917,
   "id": "943d160b",
   "metadata": {},
   "outputs": [
    {
     "name": "stdout",
     "output_type": "stream",
     "text": [
      "      2017    2018    2019  3 YEAR TOTAL  3 YEAR AVERAGE      Country  \\\n",
      "6   5970.0  6280.0  6410.0       18660.0          6220.0      Germany   \n",
      "0   5320.0  5520.0  5620.0       16460.0          5490.0      Austria   \n",
      "12  5250.0  5480.0  5640.0       16380.0          5460.0  Netherlands   \n",
      "17  5220.0  5420.0  5390.0       16030.0          5340.0       Sweden   \n",
      "1   5120.0  5320.0  5350.0       15790.0          5260.0      Belgium   \n",
      "\n",
      "          EURO_Status  Rank LEVEL  \n",
      "6           Uses EURO   1.0  HIGH  \n",
      "0           Uses EURO   2.0  HIGH  \n",
      "12          Uses EURO   3.0  HIGH  \n",
      "17  Does not use EURO   4.0  HIGH  \n",
      "1           Uses EURO   5.0  HIGH  \n"
     ]
    }
   ],
   "source": [
    "HealthExp_df23 = HealthExp_df22.drop(columns= [\"LOCATION\", \"Exhange Rate\", \"3 YEAR AVERAGE EURO\"])\n",
    "print(HealthExp_df23.head())"
   ]
  },
  {
   "cell_type": "code",
   "execution_count": 918,
   "id": "9febc4ac",
   "metadata": {},
   "outputs": [
    {
     "name": "stdout",
     "output_type": "stream",
     "text": [
      "        Country        EURO_Status LEVEL  Year  Health_Exp\n",
      "0       Germany          Uses EURO  HIGH  2017      5970.0\n",
      "1       Austria          Uses EURO  HIGH  2017      5320.0\n",
      "2   Netherlands          Uses EURO  HIGH  2017      5250.0\n",
      "3        Sweden  Does not use EURO  HIGH  2017      5220.0\n",
      "4       Belgium          Uses EURO  HIGH  2017      5120.0\n",
      "..          ...                ...   ...   ...         ...\n",
      "76     Slovakia          Uses EURO   LOW  2019      2120.0\n",
      "77      Croatia          Uses EURO   LOW  2019      1960.0\n",
      "78       Latvia          Uses EURO   LOW  2019      2030.0\n",
      "79     Bulgaria  Does not use EURO   LOW  2019      1800.0\n",
      "80      Romania  Does not use EURO   LOW  2019      1840.0\n",
      "\n",
      "[81 rows x 5 columns]\n"
     ]
    }
   ],
   "source": [
    "HealthExp_df24 = HealthExp_df23.melt(id_vars=[\"Country\", \"EURO_Status\", \"LEVEL\"], value_vars=[\"2017\", \"2018\", \"2019\"], var_name=\"Year\", value_name=\"Health_Exp\")\n",
    "print(HealthExp_df24)"
   ]
  },
  {
   "cell_type": "code",
   "execution_count": 919,
   "id": "78300e1d",
   "metadata": {},
   "outputs": [
    {
     "data": {
      "text/plain": [
       "7"
      ]
     },
     "execution_count": 919,
     "metadata": {},
     "output_type": "execute_result"
    }
   ],
   "source": [
    "HealthExp_df24[(HealthExp_df24[\"Year\"]== \"2019\") & (HealthExp_df24[\"LEVEL\"]== \"HIGH\")] [\"Country\"].count()"
   ]
  },
  {
   "cell_type": "code",
   "execution_count": 920,
   "id": "629547e0",
   "metadata": {},
   "outputs": [
    {
     "data": {
      "text/plain": [
       "13"
      ]
     },
     "execution_count": 920,
     "metadata": {},
     "output_type": "execute_result"
    }
   ],
   "source": [
    "HealthExp_df24[(HealthExp_df24[\"Year\"]== \"2019\") & (HealthExp_df24[\"LEVEL\"]== \"MEDIUM\")] [\"Country\"].count()"
   ]
  },
  {
   "cell_type": "code",
   "execution_count": 921,
   "id": "afefbb56",
   "metadata": {},
   "outputs": [
    {
     "data": {
      "text/plain": [
       "7"
      ]
     },
     "execution_count": 921,
     "metadata": {},
     "output_type": "execute_result"
    }
   ],
   "source": [
    "HealthExp_df24[(HealthExp_df24[\"Year\"]== \"2019\") & (HealthExp_df24[\"LEVEL\"]== \"LOW\")] [\"Country\"].count()"
   ]
  },
  {
   "cell_type": "code",
   "execution_count": 922,
   "id": "ca594882",
   "metadata": {},
   "outputs": [],
   "source": [
    "HealthExp_df24b = HealthExp_df24[HealthExp_df24[\"Country\"].isin([\"Germany\", \"France\", \"Sweden\", \"Ireland\", \"Finland\", \"Italy\", \"Spain\", \"Denmark\", \"Portugal\", \"Belgium\"])]"
   ]
  },
  {
   "cell_type": "code",
   "execution_count": 923,
   "id": "d712b7d6",
   "metadata": {},
   "outputs": [
    {
     "name": "stdout",
     "output_type": "stream",
     "text": [
      "Year\n",
      "2017    91620.0\n",
      "2018    96020.0\n",
      "2019    98870.0\n",
      "Name: Health_Exp, dtype: float64\n"
     ]
    }
   ],
   "source": [
    "HealthExp_df25 = HealthExp_df24.groupby(\"Year\") [\"Health_Exp\"].sum()\n",
    "print(HealthExp_df25.head())"
   ]
  },
  {
   "cell_type": "code",
   "execution_count": 924,
   "id": "fe308a61",
   "metadata": {},
   "outputs": [],
   "source": [
    "HealthExp_df26 =  HealthExp_df24[HealthExp_df24[\"LEVEL\"]== \"HIGH\"]"
   ]
  },
  {
   "cell_type": "code",
   "execution_count": 925,
   "id": "2be94fb0",
   "metadata": {},
   "outputs": [
    {
     "name": "stdout",
     "output_type": "stream",
     "text": [
      "Year\n",
      "2017    36980.0\n",
      "2018    38620.0\n",
      "2019    39150.0\n",
      "Name: Health_Exp, dtype: float64\n"
     ]
    }
   ],
   "source": [
    "HealthExp_df27 = HealthExp_df26.groupby(\"Year\") [\"Health_Exp\"].sum()\n",
    "print(HealthExp_df27.head())"
   ]
  },
  {
   "cell_type": "code",
   "execution_count": 926,
   "id": "82bf744a",
   "metadata": {},
   "outputs": [],
   "source": [
    "HealthExp_df28 =  HealthExp_df24[HealthExp_df24[\"LEVEL\"]== \"MEDIUM\"]"
   ]
  },
  {
   "cell_type": "code",
   "execution_count": 927,
   "id": "e964a78b",
   "metadata": {},
   "outputs": [
    {
     "name": "stdout",
     "output_type": "stream",
     "text": [
      "Year\n",
      "2017    42070.0\n",
      "2018    44000.0\n",
      "2019    45650.0\n",
      "Name: Health_Exp, dtype: float64\n"
     ]
    }
   ],
   "source": [
    "HealthExp_df29 = HealthExp_df28.groupby(\"Year\") [\"Health_Exp\"].sum()\n",
    "print(HealthExp_df29.head())"
   ]
  },
  {
   "cell_type": "code",
   "execution_count": 928,
   "id": "bbe08913",
   "metadata": {},
   "outputs": [],
   "source": [
    "HealthExp_df30 =  HealthExp_df24[HealthExp_df24[\"LEVEL\"]== \"LOW\"]"
   ]
  },
  {
   "cell_type": "code",
   "execution_count": 929,
   "id": "cb4fdfaa",
   "metadata": {},
   "outputs": [
    {
     "name": "stdout",
     "output_type": "stream",
     "text": [
      "Year\n",
      "2017    12570.0\n",
      "2018    13400.0\n",
      "2019    14070.0\n",
      "Name: Health_Exp, dtype: float64\n"
     ]
    }
   ],
   "source": [
    "HealthExp_df31 = HealthExp_df30.groupby(\"Year\") [\"Health_Exp\"].sum()\n",
    "print(HealthExp_df31.head())"
   ]
  },
  {
   "cell_type": "code",
   "execution_count": 930,
   "id": "9f7f717b",
   "metadata": {},
   "outputs": [],
   "source": [
    "HealthExp_df32 = HealthExp_df23"
   ]
  },
  {
   "cell_type": "code",
   "execution_count": 931,
   "id": "f799f795",
   "metadata": {},
   "outputs": [],
   "source": [
    "HealthExp_df32[\"INCREASE 17-19\"] = HealthExp_df32[\"2019\"] - HealthExp_df32[\"2017\"]\n",
    "HealthExp_df32[\"INCREASE 17-19 %\"] = (HealthExp_df32[\"INCREASE 17-19\"] / HealthExp_df32[\"2017\"]) * 100"
   ]
  },
  {
   "cell_type": "code",
   "execution_count": 932,
   "id": "15785c6f",
   "metadata": {},
   "outputs": [
    {
     "name": "stdout",
     "output_type": "stream",
     "text": [
      "     LEVEL    2017    2019  INCREASE 17-19  INCREASE 17-19 %\n",
      "6     HIGH  5970.0  6410.0           440.0          7.370184\n",
      "0     HIGH  5320.0  5620.0           300.0          5.639098\n",
      "12    HIGH  5250.0  5640.0           390.0          7.428571\n",
      "17    HIGH  5220.0  5390.0           170.0          3.256705\n",
      "1     HIGH  5120.0  5350.0           230.0          4.492188\n",
      "3     HIGH  5110.0  5360.0           250.0          4.892368\n",
      "11    HIGH  4990.0  5380.0           390.0          7.815631\n",
      "5   MEDIUM  5010.0  5170.0           160.0          3.193613\n",
      "9   MEDIUM  4680.0  4950.0           270.0          5.769231\n",
      "4   MEDIUM  4220.0  4380.0           160.0          3.791469\n",
      "25  MEDIUM  3650.0  4150.0           500.0         13.698630\n",
      "10  MEDIUM  3380.0  3570.0           190.0          5.621302\n",
      "16  MEDIUM  3320.0  3520.0           200.0          6.024096\n",
      "2   MEDIUM  2970.0  3270.0           300.0         10.101010\n",
      "14  MEDIUM  2910.0  3220.0           310.0         10.652921\n",
      "19  MEDIUM  2830.0  3220.0           390.0         13.780919\n",
      "24  MEDIUM  2420.0  2720.0           300.0         12.396694\n",
      "21  MEDIUM  2230.0  2680.0           450.0         20.179372\n",
      "18  MEDIUM  2200.0  2450.0           250.0         11.363636\n",
      "7   MEDIUM  2250.0  2350.0           100.0          4.444444\n",
      "13     LOW  2060.0  2230.0           170.0          8.252427\n",
      "8      LOW  2000.0  2090.0            90.0          4.500000\n",
      "15     LOW  1970.0  2120.0           150.0          7.614213\n",
      "23     LOW  1760.0  1960.0           200.0         11.363636\n",
      "20     LOW  1680.0  2030.0           350.0         20.833333\n",
      "22     LOW  1690.0  1800.0           110.0          6.508876\n",
      "26     LOW  1410.0  1840.0           430.0         30.496454\n"
     ]
    }
   ],
   "source": [
    "print(HealthExp_df32[[\"LEVEL\", \"2017\", \"2019\", \"INCREASE 17-19\", \"INCREASE 17-19 %\"]])"
   ]
  },
  {
   "cell_type": "code",
   "execution_count": 933,
   "id": "7e7b2f9c",
   "metadata": {},
   "outputs": [
    {
     "name": "stdout",
     "output_type": "stream",
     "text": [
      "LEVEL\n",
      "HIGH      310.000000\n",
      "LOW       214.285714\n",
      "MEDIUM    275.384615\n",
      "Name: INCREASE 17-19, dtype: float64\n"
     ]
    }
   ],
   "source": [
    "HealthExp_df33 = HealthExp_df32.groupby(\"LEVEL\") [\"INCREASE 17-19\"].mean()\n",
    "print(HealthExp_df33)"
   ]
  },
  {
   "cell_type": "code",
   "execution_count": 934,
   "id": "0d92b731",
   "metadata": {},
   "outputs": [
    {
     "name": "stdout",
     "output_type": "stream",
     "text": [
      "LEVEL\n",
      "HIGH       5.842106\n",
      "LOW       12.795563\n",
      "MEDIUM     9.309026\n",
      "Name: INCREASE 17-19 %, dtype: float64\n"
     ]
    }
   ],
   "source": [
    "HealthExp_df34 = HealthExp_df32.groupby(\"LEVEL\") [\"INCREASE 17-19 %\"].mean()\n",
    "print(HealthExp_df34)"
   ]
  },
  {
   "cell_type": "code",
   "execution_count": 935,
   "id": "7c91ada3",
   "metadata": {},
   "outputs": [
    {
     "name": "stdout",
     "output_type": "stream",
     "text": [
      "      2017    2018    2019  3 YEAR TOTAL  3 YEAR AVERAGE  Country  \\\n",
      "6   5970.0  6280.0  6410.0       18660.0          6220.0  Germany   \n",
      "26  1410.0  1660.0  1840.0        4920.0          1640.0  Romania   \n",
      "\n",
      "          EURO_Status  Rank LEVEL  INCREASE 17-19  INCREASE 17-19 %  \n",
      "6           Uses EURO   1.0  HIGH           440.0          7.370184  \n",
      "26  Does not use EURO  27.0   LOW           430.0         30.496454  \n"
     ]
    }
   ],
   "source": [
    "HealthExp_df35 = HealthExp_df23[HealthExp_df23[\"Country\"].isin([\"Germany\", \"Romania\"])]\n",
    "print(HealthExp_df35)"
   ]
  },
  {
   "cell_type": "markdown",
   "id": "02b51c62",
   "metadata": {},
   "source": [
    "5-b) Prepare Data for Visualisation: Covid-19 Data"
   ]
  },
  {
   "cell_type": "code",
   "execution_count": 936,
   "id": "7a396590",
   "metadata": {},
   "outputs": [
    {
     "name": "stdout",
     "output_type": "stream",
     "text": [
      "                                     ID         Country CountryCode  \\\n",
      "0  06d74a9b-c9fa-4e07-a2ba-0350ced61f0f         Austria          AT   \n",
      "1  1138018e-9c34-4cde-bf72-cddaa3d565c9         Belgium          BE   \n",
      "2  a8d74839-a7e3-4f16-b7b1-d54545e93325  Czech Republic          CZ   \n",
      "3  c2890f76-ffd9-4935-9c46-bceb4f8e089f         Denmark          DK   \n",
      "4  4352c681-0c0e-43c9-8f8f-9ee364f4f05a         Finland          FI   \n",
      "\n",
      "             Slug  NewConfirmed  TotalConfirmed  NewDeaths  TotalDeaths  \\\n",
      "0         austria          2226         5754062          4        21613   \n",
      "1         belgium             0         4688927          0        33525   \n",
      "2  czech-republic           270         4586356          6        42275   \n",
      "3         denmark           179         3444735         19         8121   \n",
      "4         finland          1173         1449829        126         8557   \n",
      "\n",
      "   NewRecovered                      Date Premium        EURO_Status  \\\n",
      "0             0  2023-01-23T03:45:19.923Z      {}          Uses EURO   \n",
      "1             0  2023-01-23T03:45:19.923Z      {}          Uses EURO   \n",
      "2             0  2023-01-23T03:45:19.923Z      {}  Does not use EURO   \n",
      "3             0  2023-01-23T03:45:19.923Z      {}  Does not use EURO   \n",
      "4             0  2023-01-23T03:45:19.923Z      {}          Uses EURO   \n",
      "\n",
      "     2022 Pop  TotalConfirmed per 10,000  TotalDeaths per 10,000  \\\n",
      "0   8978929.0                     6408.0                    24.0   \n",
      "1  11631136.0                     4031.0                    29.0   \n",
      "2  10516707.0                     4361.0                    40.0   \n",
      "3   5873420.0                     5865.0                    14.0   \n",
      "4   5548241.0                     2613.0                    15.0   \n",
      "\n",
      "   TotalConfirmed per 10,000 Rank  TotalDeaths per 10,000 Rank  \n",
      "0                             2.0                         17.0  \n",
      "1                            17.0                         13.0  \n",
      "2                            15.0                          4.0  \n",
      "3                             4.0                         26.0  \n",
      "4                            21.0                         24.0  \n"
     ]
    }
   ],
   "source": [
    "print(Covid19_df11.head())"
   ]
  },
  {
   "cell_type": "code",
   "execution_count": 937,
   "id": "c9664c50",
   "metadata": {},
   "outputs": [],
   "source": [
    "Covid19_df12 = Covid19_df11.sort_values(\"TotalConfirmed\", ascending= False)"
   ]
  },
  {
   "cell_type": "code",
   "execution_count": 938,
   "id": "ac2d8d33",
   "metadata": {},
   "outputs": [],
   "source": [
    "Covid19_df13 = Covid19_df11.sort_values(\"TotalDeaths\", ascending= True)"
   ]
  },
  {
   "cell_type": "code",
   "execution_count": 939,
   "id": "c2cb6734",
   "metadata": {},
   "outputs": [],
   "source": [
    "Covid19_df14 = Covid19_df11.sort_values([\"EURO_Status\", \"TotalConfirmed per 10,000\"], ascending= [False, False])"
   ]
  },
  {
   "cell_type": "code",
   "execution_count": 940,
   "id": "6682400e",
   "metadata": {},
   "outputs": [],
   "source": [
    "Covid19_df15 = Covid19_df11.sort_values([\"EURO_Status\", \"TotalDeaths per 10,000\"], ascending= [False, False])"
   ]
  },
  {
   "cell_type": "markdown",
   "id": "2815b2c3",
   "metadata": {},
   "source": [
    "5-c) Prepare Data for Visualisation: Health Expenditure and Covid-19 Data"
   ]
  },
  {
   "cell_type": "code",
   "execution_count": 941,
   "id": "5133d3a8",
   "metadata": {},
   "outputs": [
    {
     "name": "stdout",
     "output_type": "stream",
     "text": [
      "     2017    2018    2019  3 YEAR TOTAL  3 YEAR AVERAGE      Country  \\\n",
      "0  5970.0  6280.0  6410.0       18660.0          6220.0      Germany   \n",
      "1  5320.0  5520.0  5620.0       16460.0          5490.0      Austria   \n",
      "2  5250.0  5480.0  5640.0       16380.0          5460.0  Netherlands   \n",
      "3  5220.0  5420.0  5390.0       16030.0          5340.0       Sweden   \n",
      "4  5120.0  5320.0  5350.0       15790.0          5260.0      Belgium   \n",
      "\n",
      "         EURO_Status  Rank LEVEL  INCREASE 17-19  ...  NewDeaths TotalDeaths  \\\n",
      "0          Uses EURO   1.0  HIGH           440.0  ...        118      164703   \n",
      "1          Uses EURO   2.0  HIGH           300.0  ...          4       21613   \n",
      "2          Uses EURO   3.0  HIGH           390.0  ...          0       22990   \n",
      "3  Does not use EURO   4.0  HIGH           170.0  ...        375       23020   \n",
      "4          Uses EURO   5.0  HIGH           230.0  ...          0       33525   \n",
      "\n",
      "  NewRecovered                      Date  Premium    2022 Pop  \\\n",
      "0            0  2023-01-23T03:45:19.923Z       {}  83237124.0   \n",
      "1            0  2023-01-23T03:45:19.923Z       {}   8978929.0   \n",
      "2            0  2023-01-23T03:45:19.923Z       {}  17590672.0   \n",
      "3            0  2023-01-23T03:45:19.923Z       {}  10452326.0   \n",
      "4            0  2023-01-23T03:45:19.923Z       {}  11631136.0   \n",
      "\n",
      "   TotalConfirmed per 10,000  TotalDeaths per 10,000  \\\n",
      "0                     4525.0                    20.0   \n",
      "1                     6408.0                    24.0   \n",
      "2                     4877.0                    13.0   \n",
      "3                     2574.0                    22.0   \n",
      "4                     4031.0                    29.0   \n",
      "\n",
      "   TotalConfirmed per 10,000 Rank TotalDeaths per 10,000 Rank  \n",
      "0                            14.0                        20.0  \n",
      "1                             2.0                        17.0  \n",
      "2                            10.0                        27.0  \n",
      "3                            22.0                        18.0  \n",
      "4                            17.0                        13.0  \n",
      "\n",
      "[5 rows x 26 columns]\n"
     ]
    }
   ],
   "source": [
    "ALL_df1 = HealthExp_df23.merge(Covid19_df11, on=[\"Country\", \"EURO_Status\"])\n",
    "print(ALL_df1.head())"
   ]
  },
  {
   "cell_type": "code",
   "execution_count": 942,
   "id": "f61ecdee",
   "metadata": {},
   "outputs": [
    {
     "data": {
      "text/plain": [
       "27"
      ]
     },
     "execution_count": 942,
     "metadata": {},
     "output_type": "execute_result"
    }
   ],
   "source": [
    "ALL_df1[\"Country\"].count()"
   ]
  },
  {
   "cell_type": "code",
   "execution_count": 943,
   "id": "ec0b3bc4",
   "metadata": {},
   "outputs": [],
   "source": [
    "ALL_df1[\"Confirmed per 10,000 per HealthExp RATIO\"] = ALL_df1[\"TotalConfirmed per 10,000\"] / ALL_df1[\"3 YEAR AVERAGE\"]"
   ]
  },
  {
   "cell_type": "code",
   "execution_count": 944,
   "id": "7eb0798c",
   "metadata": {},
   "outputs": [],
   "source": [
    "ALL_df2 = ALL_df1.sort_values(\"Confirmed per 10,000 per HealthExp RATIO\", ascending= False)"
   ]
  },
  {
   "cell_type": "code",
   "execution_count": 945,
   "id": "81cdba73",
   "metadata": {},
   "outputs": [],
   "source": [
    "ALL_df1[\"Deaths per 10,000 per HealthExp RATIO\"] = ALL_df1[\"TotalDeaths per 10,000\"] / ALL_df1[\"3 YEAR AVERAGE\"]"
   ]
  },
  {
   "cell_type": "code",
   "execution_count": 946,
   "id": "232a4d3a",
   "metadata": {},
   "outputs": [],
   "source": [
    "ALL_df3 = ALL_df1.sort_values(\"Deaths per 10,000 per HealthExp RATIO\", ascending= False)"
   ]
  },
  {
   "cell_type": "markdown",
   "id": "21439938",
   "metadata": {},
   "source": [
    "5-d) Visualisations: Health Expenditure Data - Insight 1"
   ]
  },
  {
   "cell_type": "code",
   "execution_count": 996,
   "id": "fbd4b624",
   "metadata": {},
   "outputs": [
    {
     "data": {
      "image/png": "[encoded data removed]",
      "text/plain": [
       "<Figure size 432x288 with 1 Axes>"
      ]
     },
     "metadata": {
      "needs_background": "light"
     },
     "output_type": "display_data"
    }
   ],
   "source": [
    "plt.plot(HealthExp_df25.index, (HealthExp_df25.values) / 27, marker=\"o\")\n",
    "plt.xlabel(\"Years\")\n",
    "plt.ylabel(\"3 Year (2017-19) Average $USD per capita\")\n",
    "plt.ylim(0, 5000)\n",
    "plt.title(\"3 Year Average Annual Health Expenditure across EU 27\")\n",
    "plt.show()"
   ]
  },
  {
   "cell_type": "code",
   "execution_count": 1010,
   "id": "af07cd4d",
   "metadata": {},
   "outputs": [
    {
     "data": {
      "image/png": "[encoded data removed]",
      "text/plain": [
       "<Figure size 432x288 with 1 Axes>"
      ]
     },
     "metadata": {
      "needs_background": "light"
     },
     "output_type": "display_data"
    }
   ],
   "source": [
    "plt.plot(HealthExp_df27.index, (HealthExp_df27.values) / 7, marker=\"o\")\n",
    "plt.plot(HealthExp_df29.index, (HealthExp_df29.values) / 13, marker=\"o\")\n",
    "plt.plot(HealthExp_df31.index, (HealthExp_df29.values) / 7, marker=\"o\")\n",
    "plt.legend([\"MEDIUM\", \"LOW\", \"HIGH\"], title= \"EU 27 Expenditure Grouping\")\n",
    "plt.xlabel(\"Years\")\n",
    "plt.ylabel(\"3 Year (2017-19) Average $USD per capita\")\n",
    "plt.title(\"3 Year Average Annual Health Expenditure\")\n",
    "plt.show()"
   ]
  },
  {
   "cell_type": "code",
   "execution_count": 1009,
   "id": "cdef46f2",
   "metadata": {},
   "outputs": [
    {
     "data": {
      "text/plain": [
       "[Text(0.5, 1.0, '3 Year (2017-19) Average Annual Health Expenditure')]"
      ]
     },
     "execution_count": 1009,
     "metadata": {},
     "output_type": "execute_result"
    },
    {
     "data": {
      "image/png": "[encoded data removed]",
      "text/plain": [
       "<Figure size 432x288 with 1 Axes>"
      ]
     },
     "metadata": {
      "needs_background": "light"
     },
     "output_type": "display_data"
    }
   ],
   "source": [
    "sns.lineplot(data=HealthExp_df24b, x=\"Year\", y=\"Health_Exp\", hue=\"Country\").set(title=\"3 Year (2017-19) Average Annual Health Expenditure\")"
   ]
  },
  {
   "cell_type": "code",
   "execution_count": 1040,
   "id": "cda243b2",
   "metadata": {},
   "outputs": [
    {
     "data": {
      "text/plain": [
       "Text(0.5, 1.0, 'Increase in Annual Health Expenditure: 2017 to 2019')"
      ]
     },
     "execution_count": 1040,
     "metadata": {},
     "output_type": "execute_result"
    },
    {
     "data": {
      "image/png": "[encoded data removed]",
      "text/plain": [
       "<Figure size 432x288 with 1 Axes>"
      ]
     },
     "metadata": {
      "needs_background": "light"
     },
     "output_type": "display_data"
    }
   ],
   "source": [
    "plt.bar(HealthExp_df33.index, HealthExp_df33.values)\n",
    "plt.xlabel(\"EU 27 Expenditure Grouping\")\n",
    "plt.ylabel(\"$USD per capita\")\n",
    "plt.title(\"Increase in Annual Health Expenditure: 2017 to 2019\")"
   ]
  },
  {
   "cell_type": "code",
   "execution_count": 1039,
   "id": "56f8059e",
   "metadata": {},
   "outputs": [
    {
     "data": {
      "text/plain": [
       "Text(0.5, 1.0, 'Percentage Increase in Annual Health Expenditure: 2017 to 2019')"
      ]
     },
     "execution_count": 1039,
     "metadata": {},
     "output_type": "execute_result"
    },
    {
     "data": {
      "image/png": "[encoded data removed]",
      "text/plain": [
       "<Figure size 432x288 with 1 Axes>"
      ]
     },
     "metadata": {
      "needs_background": "light"
     },
     "output_type": "display_data"
    }
   ],
   "source": [
    "plt.bar(HealthExp_df34.index, HealthExp_df34.values)\n",
    "plt.xlabel(\"EU 27 Expenditure Grouping\")\n",
    "plt.ylabel(\"Percentage\")\n",
    "plt.ylim(0, 100)\n",
    "plt.title(\"Percentage Increase in Annual Health Expenditure: 2017 to 2019\")"
   ]
  },
  {
   "cell_type": "markdown",
   "id": "4b2d3df2",
   "metadata": {},
   "source": [
    "5-e) Visualisations: Health Expenditure Data - Insight 2"
   ]
  },
  {
   "cell_type": "code",
   "execution_count": 1021,
   "id": "d5e618f3",
   "metadata": {},
   "outputs": [
    {
     "data": {
      "text/plain": [
       "<AxesSubplot:title={'center':'2017-19 Annual Health Expenditure in EU 27'}, xlabel='Country', ylabel='$USD per capita'>"
      ]
     },
     "execution_count": 1021,
     "metadata": {},
     "output_type": "execute_result"
    },
    {
     "data": {
      "image/png": "[encoded data removed]",
      "text/plain": [
       "<Figure size 432x288 with 1 Axes>"
      ]
     },
     "metadata": {
      "needs_background": "light"
     },
     "output_type": "display_data"
    }
   ],
   "source": [
    "HealthExp_df23.plot(\"Country\", \"3 YEAR AVERAGE\", kind= \"bar\", title=\"2017-19 Annual Health Expenditure in EU 27\", ylabel=\"$USD per capita\")"
   ]
  },
  {
   "cell_type": "code",
   "execution_count": 1038,
   "id": "bcdf561b",
   "metadata": {},
   "outputs": [
    {
     "data": {
      "text/plain": [
       "<AxesSubplot:title={'center':'Increase in Annual Health Expenditure: 2017 to 19'}, xlabel='Country', ylabel='$USD per capita'>"
      ]
     },
     "execution_count": 1038,
     "metadata": {},
     "output_type": "execute_result"
    },
    {
     "data": {
      "image/png": "[encoded data removed]",
      "text/plain": [
       "<Figure size 432x288 with 1 Axes>"
      ]
     },
     "metadata": {
      "needs_background": "light"
     },
     "output_type": "display_data"
    }
   ],
   "source": [
    "HealthExp_df23.plot(\"Country\", \"INCREASE 17-19\", kind= \"bar\", title=\"Increase in Annual Health Expenditure: 2017 to 19\", ylabel=\"$USD per capita\")"
   ]
  },
  {
   "cell_type": "code",
   "execution_count": 1029,
   "id": "8dfcded6",
   "metadata": {},
   "outputs": [
    {
     "data": {
      "text/plain": [
       "<AxesSubplot:title={'center':'Annual Health Expenditure: Highest & Lowest in EU 27'}, xlabel='Country', ylabel='$USD per capita'>"
      ]
     },
     "execution_count": 1029,
     "metadata": {},
     "output_type": "execute_result"
    },
    {
     "data": {
      "image/png": "[encoded data removed]",
      "text/plain": [
       "<Figure size 432x288 with 1 Axes>"
      ]
     },
     "metadata": {
      "needs_background": "light"
     },
     "output_type": "display_data"
    }
   ],
   "source": [
    "HealthExp_df35.plot(\"Country\", [\"2017\", \"2018\", \"2019\"], kind= \"bar\",  title=\"Annual Health Expenditure: Highest & Lowest in EU 27\", ylabel=\"$USD per capita\", ylim=[0,7000])"
   ]
  },
  {
   "cell_type": "code",
   "execution_count": 1037,
   "id": "6e945761",
   "metadata": {},
   "outputs": [
    {
     "data": {
      "text/plain": [
       "<AxesSubplot:title={'center':'Percentage Increase in Annual Health Expenditure: 2017 to 19'}, xlabel='Country', ylabel='Percentage'>"
      ]
     },
     "execution_count": 1037,
     "metadata": {},
     "output_type": "execute_result"
    },
    {
     "data": {
      "image/png": "[encoded data removed]",
      "text/plain": [
       "<Figure size 432x288 with 1 Axes>"
      ]
     },
     "metadata": {
      "needs_background": "light"
     },
     "output_type": "display_data"
    }
   ],
   "source": [
    "HealthExp_df35.plot(\"Country\", \"INCREASE 17-19 %\", kind= \"bar\", title=\"Percentage Increase in Annual Health Expenditure: 2017 to 19\", ylabel=\"Percentage\", ylim=[0,100])"
   ]
  },
  {
   "cell_type": "code",
   "execution_count": 1033,
   "id": "824603f9",
   "metadata": {},
   "outputs": [
    {
     "data": {
      "text/plain": [
       "[Text(0.5, 1.0, 'Average Annual Health Expenditure (2017-19) across EU 27')]"
      ]
     },
     "execution_count": 1033,
     "metadata": {},
     "output_type": "execute_result"
    },
    {
     "data": {
      "image/png": "[encoded data removed]",
      "text/plain": [
       "<Figure size 432x288 with 1 Axes>"
      ]
     },
     "metadata": {
      "needs_background": "light"
     },
     "output_type": "display_data"
    }
   ],
   "source": [
    "sns.barplot(y=HealthExp_df23[\"Country\"], x=HealthExp_df23[\"3 YEAR AVERAGE\"]).set(title=\"Average Annual Health Expenditure (2017-19) across EU 27\")"
   ]
  },
  {
   "cell_type": "code",
   "execution_count": 1036,
   "id": "daf580b3",
   "metadata": {},
   "outputs": [
    {
     "data": {
      "text/plain": [
       "[Text(0.5, 1.0, 'Percentage Increase in Annual Health Expenditure (2017 to 2019) across EU 27')]"
      ]
     },
     "execution_count": 1036,
     "metadata": {},
     "output_type": "execute_result"
    },
    {
     "data": {
      "image/png": "[encoded data removed]",
      "text/plain": [
       "<Figure size 432x288 with 1 Axes>"
      ]
     },
     "metadata": {
      "needs_background": "light"
     },
     "output_type": "display_data"
    }
   ],
   "source": [
    "sns.barplot(y=HealthExp_df23[\"Country\"], x=HealthExp_df23[\"INCREASE 17-19 %\"]).set(title=\"Percentage Increase in Annual Health Expenditure (2017 to 2019) across EU 27\")"
   ]
  },
  {
   "cell_type": "code",
   "execution_count": 1044,
   "id": "cd9429db",
   "metadata": {},
   "outputs": [
    {
     "data": {
      "text/plain": [
       "<AxesSubplot:title={'center':'Percentage of 2019 Health Expenditure by EU 27 Expenditure Grouping '}, ylabel='2019'>"
      ]
     },
     "execution_count": 1044,
     "metadata": {},
     "output_type": "execute_result"
    },
    {
     "data": {
      "image/png": "[encoded data removed]",
      "text/plain": [
       "<Figure size 432x288 with 1 Axes>"
      ]
     },
     "metadata": {},
     "output_type": "display_data"
    }
   ],
   "source": [
    "HealthExp_df23.groupby(\"LEVEL\").sum().plot(kind= \"pie\", y= \"2019\", autopct='%1.0f%%', title=\"Percentage of 2019 Health Expenditure by EU 27 Expenditure Grouping \") "
   ]
  },
  {
   "cell_type": "code",
   "execution_count": 1045,
   "id": "ffd54727",
   "metadata": {},
   "outputs": [
    {
     "data": {
      "text/plain": [
       "<AxesSubplot:title={'center':'Percentage of EU 27 Countries in each EU 27 Expenditure Grouping '}, ylabel='Country'>"
      ]
     },
     "execution_count": 1045,
     "metadata": {},
     "output_type": "execute_result"
    },
    {
     "data": {
      "image/png": "[encoded data removed]",
      "text/plain": [
       "<Figure size 432x288 with 1 Axes>"
      ]
     },
     "metadata": {},
     "output_type": "display_data"
    }
   ],
   "source": [
    "HealthExp_df23.groupby(\"LEVEL\").count().plot(kind= \"pie\", y= \"Country\", autopct='%1.0f%%', title=\"Percentage of EU 27 Countries in each EU 27 Expenditure Grouping \")"
   ]
  },
  {
   "cell_type": "markdown",
   "id": "48d65272",
   "metadata": {},
   "source": [
    "5-f) Visualisations: Covid-19 Data - Insight 3"
   ]
  },
  {
   "cell_type": "code",
   "execution_count": 1049,
   "id": "6c344865",
   "metadata": {},
   "outputs": [
    {
     "data": {
      "text/plain": [
       "[Text(0.5, 1.0, 'Cases of Covid-19 across the EU 27 (up to 23rd Jan 2023)')]"
      ]
     },
     "execution_count": 1049,
     "metadata": {},
     "output_type": "execute_result"
    },
    {
     "data": {
      "image/png": "[encoded data removed]",
      "text/plain": [
       "<Figure size 432x288 with 1 Axes>"
      ]
     },
     "metadata": {
      "needs_background": "light"
     },
     "output_type": "display_data"
    }
   ],
   "source": [
    "sns.barplot(x = Covid19_df12[\"TotalConfirmed\"], y = Covid19_df12[\"Country\"]).set(title=\"Cases of Covid-19 across the EU 27 (up to 23rd Jan 2023)\")"
   ]
  },
  {
   "cell_type": "code",
   "execution_count": 1050,
   "id": "bdf5a6b8",
   "metadata": {},
   "outputs": [
    {
     "data": {
      "text/plain": [
       "Text(0.5, 1.0, 'Deaths due to Covid-19 across the EU 27 (up to 23rd Jan 2023)')"
      ]
     },
     "execution_count": 1050,
     "metadata": {},
     "output_type": "execute_result"
    },
    {
     "data": {
      "image/png": "[encoded data removed]",
      "text/plain": [
       "<Figure size 432x288 with 1 Axes>"
      ]
     },
     "metadata": {
      "needs_background": "light"
     },
     "output_type": "display_data"
    }
   ],
   "source": [
    "plt.barh(Covid19_df13[\"Country\"], Covid19_df13[\"TotalDeaths\"])\n",
    "plt.xlabel(\"Total Deaths\")\n",
    "plt.ylabel(\"Country\")\n",
    "plt.title(\"Deaths due to Covid-19 across the EU 27 (up to 23rd Jan 2023)\")"
   ]
  },
  {
   "cell_type": "code",
   "execution_count": 1055,
   "id": "8c54b559",
   "metadata": {},
   "outputs": [
    {
     "data": {
      "text/plain": [
       "Text(0.5, 1.0, 'Size of Population with Cases of Covid-19 across the EU 27 (up to 23rd Jan 2023)')"
      ]
     },
     "execution_count": 1055,
     "metadata": {},
     "output_type": "execute_result"
    },
    {
     "data": {
      "image/png": "[encoded data removed]",
      "text/plain": [
       "<Figure size 432x288 with 1 Axes>"
      ]
     },
     "metadata": {
      "needs_background": "light"
     },
     "output_type": "display_data"
    }
   ],
   "source": [
    "plt.scatter(Covid19_df11[\"2022 Pop\"], Covid19_df11[\"TotalConfirmed\"])\n",
    "plt.xlabel(\"Size of Population\")\n",
    "plt.ylabel(\"Total Confirmed Cases of Covid-19\")\n",
    "plt.title(\"Size of Population with Cases of Covid-19 across the EU 27 (up to 23rd Jan 2023)\")"
   ]
  },
  {
   "cell_type": "code",
   "execution_count": 1056,
   "id": "05095680",
   "metadata": {},
   "outputs": [
    {
     "data": {
      "text/plain": [
       "[Text(0.5, 1.0, 'Cases of Covid-19 & Deaths across the EU 27 (up to 23rd Jan 2023)')]"
      ]
     },
     "execution_count": 1056,
     "metadata": {},
     "output_type": "execute_result"
    },
    {
     "data": {
      "image/png": "[encoded data removed]",
      "text/plain": [
       "<Figure size 432x288 with 1 Axes>"
      ]
     },
     "metadata": {
      "needs_background": "light"
     },
     "output_type": "display_data"
    }
   ],
   "source": [
    "sns.scatterplot(x= Covid19_df11[\"TotalConfirmed\"], y= Covid19_df11[\"TotalDeaths\"], hue= Covid19_df11[\"EURO_Status\"]).set(title=\"Cases of Covid-19 & Deaths across the EU 27 (up to 23rd Jan 2023)\")"
   ]
  },
  {
   "cell_type": "code",
   "execution_count": 1058,
   "id": "0bc238e4",
   "metadata": {},
   "outputs": [
    {
     "data": {
      "text/plain": [
       "[Text(0.5, 1.0, 'Cases of Covid-19 per 10,000 population across the EU 27 (up to 23rd Jan 2023)')]"
      ]
     },
     "execution_count": 1058,
     "metadata": {},
     "output_type": "execute_result"
    },
    {
     "data": {
      "image/png": "[encoded data removed]",
      "text/plain": [
       "<Figure size 432x288 with 1 Axes>"
      ]
     },
     "metadata": {
      "needs_background": "light"
     },
     "output_type": "display_data"
    }
   ],
   "source": [
    "sns.barplot(data=Covid19_df14, y= \"Country\", x=\"TotalConfirmed per 10,000\", hue=\"EURO_Status\").set(title=\"Cases of Covid-19 per 10,000 population across the EU 27 (up to 23rd Jan 2023)\")"
   ]
  },
  {
   "cell_type": "code",
   "execution_count": 1059,
   "id": "6aea2bd1",
   "metadata": {},
   "outputs": [
    {
     "data": {
      "text/plain": [
       "[Text(0.5, 1.0, 'Deaths due to Covid-19 per 10,000 population across the EU 27 (up to 23rd Jan 2023)')]"
      ]
     },
     "execution_count": 1059,
     "metadata": {},
     "output_type": "execute_result"
    },
    {
     "data": {
      "image/png": "[encoded data removed]",
      "text/plain": [
       "<Figure size 432x288 with 1 Axes>"
      ]
     },
     "metadata": {
      "needs_background": "light"
     },
     "output_type": "display_data"
    }
   ],
   "source": [
    "sns.barplot(data=Covid19_df15, y= \"Country\", x=\"TotalDeaths per 10,000\", hue=\"EURO_Status\").set(title=\"Deaths due to Covid-19 per 10,000 population across the EU 27 (up to 23rd Jan 2023)\")"
   ]
  },
  {
   "cell_type": "markdown",
   "id": "dba5dfea",
   "metadata": {},
   "source": [
    "5-g) Visualisations: Covid-19 Data - Insight 4"
   ]
  },
  {
   "cell_type": "code",
   "execution_count": 1061,
   "id": "0b84c347",
   "metadata": {},
   "outputs": [
    {
     "data": {
      "text/plain": [
       "Text(0.5, 1.0, 'EU 27 countries which have 8 different levels of Covid-19 Cases per 10,000 pop (up to 23rd Jan 2023)')"
      ]
     },
     "execution_count": 1061,
     "metadata": {},
     "output_type": "execute_result"
    },
    {
     "data": {
      "image/png": "[encoded data removed]",
      "text/plain": [
       "<Figure size 432x288 with 1 Axes>"
      ]
     },
     "metadata": {
      "needs_background": "light"
     },
     "output_type": "display_data"
    }
   ],
   "source": [
    "plt.hist(x=Covid19_df11[\"TotalConfirmed per 10,000\"], bins = 8)\n",
    "plt.xlabel(\"Total Confirmed Cases per 10,000 Population\")\n",
    "plt.ylabel(\"Number of EU 27 Countries\")\n",
    "plt.title(\"EU 27 countries which have 8 different levels of Covid-19 Cases per 10,000 pop (up to 23rd Jan 2023)\")"
   ]
  },
  {
   "cell_type": "code",
   "execution_count": 1064,
   "id": "ae748db2",
   "metadata": {},
   "outputs": [
    {
     "data": {
      "text/plain": [
       "Text(0.5, 1.0, 'EU 27 countries which have 3 different levels of Deaths due to Covid-19 per 10,000 pop (up to 23rd Jan 2023)')"
      ]
     },
     "execution_count": 1064,
     "metadata": {},
     "output_type": "execute_result"
    },
    {
     "data": {
      "image/png": "[encoded data removed]",
      "text/plain": [
       "<Figure size 432x288 with 1 Axes>"
      ]
     },
     "metadata": {
      "needs_background": "light"
     },
     "output_type": "display_data"
    }
   ],
   "source": [
    "plt.hist(x=Covid19_df11[\"TotalDeaths per 10,000\"], bins = 3)\n",
    "plt.xlabel(\"Deaths due to Covid-19 per 10,000 Population\")\n",
    "plt.ylabel(\"Number of EU 27 Countries\")\n",
    "plt.title(\"EU 27 countries which have 3 different levels of Deaths due to Covid-19 per 10,000 pop (up to 23rd Jan 2023)\")"
   ]
  },
  {
   "cell_type": "code",
   "execution_count": 1065,
   "id": "e987d2da",
   "metadata": {},
   "outputs": [
    {
     "data": {
      "text/plain": [
       "Text(0.5, 1.0, 'Interquartile Range & Median of Covid-19 cases across the EU 27 (up to 23rd Jan 2023)')"
      ]
     },
     "execution_count": 1065,
     "metadata": {},
     "output_type": "execute_result"
    },
    {
     "data": {
      "image/png": "[encoded data removed]",
      "text/plain": [
       "<Figure size 432x288 with 1 Axes>"
      ]
     },
     "metadata": {
      "needs_background": "light"
     },
     "output_type": "display_data"
    }
   ],
   "source": [
    "Covid19_df11.plot(\"Country\", \"TotalConfirmed per 10,000\", kind= \"box\")\n",
    "plt.title(\"Interquartile Range & Median of Covid-19 cases across the EU 27 (up to 23rd Jan 2023)\")"
   ]
  },
  {
   "cell_type": "code",
   "execution_count": 1066,
   "id": "01e73df3",
   "metadata": {},
   "outputs": [
    {
     "data": {
      "text/plain": [
       "Text(0.5, 1.0, 'Interquartile Range & Median of Deaths due to Covid-19 across the EU 27 (up to 23rd Jan 2023)')"
      ]
     },
     "execution_count": 1066,
     "metadata": {},
     "output_type": "execute_result"
    },
    {
     "data": {
      "image/png": "[encoded data removed]",
      "text/plain": [
       "<Figure size 432x288 with 1 Axes>"
      ]
     },
     "metadata": {
      "needs_background": "light"
     },
     "output_type": "display_data"
    }
   ],
   "source": [
    "Covid19_df11.plot(\"Country\", \"TotalDeaths per 10,000\", kind= \"box\")\n",
    "plt.title(\"Interquartile Range & Median of Deaths due to Covid-19 across the EU 27 (up to 23rd Jan 2023)\")"
   ]
  },
  {
   "cell_type": "markdown",
   "id": "e16e5a7b",
   "metadata": {},
   "source": [
    "5-h) Visualisations: Covid-19 Data - Insight 5"
   ]
  },
  {
   "cell_type": "code",
   "execution_count": 1078,
   "id": "3095b399",
   "metadata": {},
   "outputs": [
    {
     "data": {
      "text/plain": [
       "[Text(0.5, 1.0, 'RATIO: Number of Covid-19 Cases (per 10,000 population) per unit of Health Expenditure (3 year average GDP per capita)')]"
      ]
     },
     "execution_count": 1078,
     "metadata": {},
     "output_type": "execute_result"
    },
    {
     "data": {
      "image/png": "[encoded data removed]",
      "text/plain": [
       "<Figure size 432x288 with 1 Axes>"
      ]
     },
     "metadata": {
      "needs_background": "light"
     },
     "output_type": "display_data"
    }
   ],
   "source": [
    "sns.barplot(x= ALL_df2[\"Confirmed per 10,000 per HealthExp RATIO\"], y= ALL_df2[\"Country\"]).set(title=\"RATIO: Number of Covid-19 Cases (per 10,000 population) per unit of Health Expenditure (3 year average GDP per capita)\")"
   ]
  },
  {
   "cell_type": "code",
   "execution_count": 1077,
   "id": "f77e4eea",
   "metadata": {},
   "outputs": [
    {
     "data": {
      "text/plain": [
       "[Text(0.5, 1.0, 'RATIO: Number of Deaths due to Covid-19 (per 10,000 population) per unit of Health Expenditure (3 year average GDP per capita)')]"
      ]
     },
     "execution_count": 1077,
     "metadata": {},
     "output_type": "execute_result"
    },
    {
     "data": {
      "image/png": "[encoded data removed]",
      "text/plain": [
       "<Figure size 432x288 with 1 Axes>"
      ]
     },
     "metadata": {
      "needs_background": "light"
     },
     "output_type": "display_data"
    }
   ],
   "source": [
    "sns.barplot(x= ALL_df3[\"Deaths per 10,000 per HealthExp RATIO\"], y= ALL_df3[\"Country\"]).set(title=\"RATIO: Number of Deaths due to Covid-19 (per 10,000 population) per unit of Health Expenditure (3 year average GDP per capita)\")"
   ]
  },
  {
   "cell_type": "code",
   "execution_count": 1075,
   "id": "1435d576",
   "metadata": {},
   "outputs": [
    {
     "data": {
      "text/plain": [
       "[Text(0.5, 1.0, '3 Year Average Health Expenditure per capita (2017-19) & Cases (per 10,000 population) of Covid-19 across the EU 27 (up to 23rd Jan 2023)')]"
      ]
     },
     "execution_count": 1075,
     "metadata": {},
     "output_type": "execute_result"
    },
    {
     "data": {
      "image/png": "[encoded data removed]",
      "text/plain": [
       "<Figure size 432x288 with 1 Axes>"
      ]
     },
     "metadata": {
      "needs_background": "light"
     },
     "output_type": "display_data"
    }
   ],
   "source": [
    "sns.scatterplot(data=ALL_df1, x='3 YEAR AVERAGE',y='TotalConfirmed per 10,000').set(title=\"3 Year Average Health Expenditure per capita (2017-19) & Cases (per 10,000 population) of Covid-19 across the EU 27 (up to 23rd Jan 2023)\")"
   ]
  },
  {
   "cell_type": "code",
   "execution_count": 1076,
   "id": "4c270664",
   "metadata": {},
   "outputs": [
    {
     "data": {
      "text/plain": [
       "[Text(0.5, 1.0, '3 Year Average Health Expenditure per capita (2017-19) & Deaths (per 10,000 of population) due to Covid-19 across the EU 27 (up to 23rd Jan 2023)')]"
      ]
     },
     "execution_count": 1076,
     "metadata": {},
     "output_type": "execute_result"
    },
    {
     "data": {
      "image/png": "[encoded data removed]",
      "text/plain": [
       "<Figure size 432x288 with 1 Axes>"
      ]
     },
     "metadata": {
      "needs_background": "light"
     },
     "output_type": "display_data"
    }
   ],
   "source": [
    "sns.scatterplot(data=ALL_df1, x='3 YEAR AVERAGE',y='TotalDeaths per 10,000', hue=\"EURO_Status\").set(title=\"3 Year Average Health Expenditure per capita (2017-19) & Deaths (per 10,000 of population) due to Covid-19 across the EU 27 (up to 23rd Jan 2023)\")"
   ]
  },
  {
   "cell_type": "code",
   "execution_count": null,
   "id": "dd7f6689",
   "metadata": {},
   "outputs": [],
   "source": []
  }
 ],
 "metadata": {
  "kernelspec": {
   "display_name": "Python 3",
   "language": "python",
   "name": "python3"
  },
  "language_info": {
   "codemirror_mode": {
    "name": "ipython",
    "version": 3
   },
   "file_extension": ".py",
   "mimetype": "text/x-python",
   "name": "python",
   "nbconvert_exporter": "python",
   "pygments_lexer": "ipython3",
   "version": "3.8.8"
  }
 },
 "nbformat": 4,
 "nbformat_minor": 5
}
